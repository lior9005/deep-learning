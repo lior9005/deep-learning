{
  "nbformat": 4,
  "nbformat_minor": 0,
  "metadata": {
    "colab": {
      "provenance": [],
      "toc_visible": true,
      "authorship_tag": "ABX9TyODpDZVeQ0PJl3KKCsVbJvS",
      "include_colab_link": true
    },
    "kernelspec": {
      "name": "python3",
      "display_name": "Python 3"
    },
    "language_info": {
      "name": "python"
    }
  },
  "cells": [
    {
      "cell_type": "markdown",
      "metadata": {
        "id": "view-in-github",
        "colab_type": "text"
      },
      "source": [
        "<a href=\"https://colab.research.google.com/github/lior9005/deep-learning/blob/main/final_project.ipynb\" target=\"_parent\"><img src=\"https://colab.research.google.com/assets/colab-badge.svg\" alt=\"Open In Colab\"/></a>"
      ]
    },
    {
      "cell_type": "markdown",
      "source": [
        "# ADL final project\n",
        "\n",
        "\n",
        "---\n",
        "\n",
        "\n",
        "**Authors:**\n",
        "> Lior Sharony 316380138\n",
        "\n",
        "\n",
        "> Noam Zigler 314868019\n",
        "\n",
        "\n",
        "> Eden Miran 208742429\n"
      ],
      "metadata": {
        "id": "HlHgPOjlULwb"
      }
    },
    {
      "cell_type": "code",
      "execution_count": 1,
      "metadata": {
        "id": "6Z1nbKeST4aX"
      },
      "outputs": [],
      "source": [
        "# Imports\n",
        "import torch\n",
        "import numpy as np\n",
        "import matplotlib.pyplot as plt\n",
        "import torch.nn as nn\n",
        "from torch import nn, optim\n",
        "import torch.nn.functional as F\n",
        "import torchvision\n",
        "import torchvision.transforms as transforms\n",
        "from torch.utils.data import DataLoader, Subset, random_split\n",
        "from tqdm.auto import tqdm\n",
        "\n",
        "# Eval mode\n",
        "eval_mode = True"
      ]
    },
    {
      "cell_type": "markdown",
      "source": [
        "# Data & Preprocessing"
      ],
      "metadata": {
        "id": "x64L0Fk9XASM"
      }
    },
    {
      "cell_type": "code",
      "source": [
        "# Datasets, dataloaders, transformations\n",
        "transform = transforms.Compose([\n",
        "    transforms.ToTensor(),\n",
        "    transforms.Normalize((0.5,), (0.5,)),\n",
        "    transforms.Resize((28 * 28))\n",
        "])\n",
        "# Datasets, dataloaders, transformations\n",
        "transform = transforms.Compose([\n",
        "    transforms.ToTensor(),\n",
        "    transforms.Normalize((0.5,), (0.5,)),\n",
        "    transforms.Resize((28, 28))\n",
        "])\n",
        "train_set = torchvision.datasets.MNIST(root='./data', train=True, download=True, transform=transform)\n",
        "test_set = torchvision.datasets.MNIST(root='./data', train=False, download=True, transform=transform)\n",
        "train_size = int(0.8 * len(train_set))  # 80% training\n",
        "val_size = len(train_set) - train_size  # 20% validation\n",
        "\n",
        "# Split the training data into training and validation sets\n",
        "train_dataset, val_dataset = random_split(train_set, [train_size, val_size])\n",
        "\n",
        "# Subset of CIFAR10/FashionMNIST\n"
      ],
      "metadata": {
        "id": "hBVUYatNUKQp",
        "colab": {
          "base_uri": "https://localhost:8080/",
          "height": 106
        },
        "outputId": "cd5c8b81-022e-4012-b8d4-f28c46567635"
      },
      "execution_count": 6,
      "outputs": [
        {
          "output_type": "error",
          "ename": "SyntaxError",
          "evalue": "invalid syntax. Perhaps you forgot a comma? (<ipython-input-6-2d421f797fd5>, line 9)",
          "traceback": [
            "\u001b[0;36m  File \u001b[0;32m\"<ipython-input-6-2d421f797fd5>\"\u001b[0;36m, line \u001b[0;32m9\u001b[0m\n\u001b[0;31m    train_subset, val_subset = random_split(train_set, [len(train_set) - (int)(len(train_set) * 0.2), (int) len(train_set)*0.2])\u001b[0m\n\u001b[0m                                                                                                       ^\u001b[0m\n\u001b[0;31mSyntaxError\u001b[0m\u001b[0;31m:\u001b[0m invalid syntax. Perhaps you forgot a comma?\n"
          ]
        }
      ]
    },
    {
      "cell_type": "markdown",
      "source": [
        "# Models"
      ],
      "metadata": {
        "id": "jJh6x5CLXGVY"
      }
    },
    {
      "cell_type": "code",
      "source": [
        "# Baseline model class\n",
        "\n",
        "\n",
        "# OSR model class\n",
        "\n"
      ],
      "metadata": {
        "id": "9k2F1LYhWPxF"
      },
      "execution_count": null,
      "outputs": []
    },
    {
      "cell_type": "markdown",
      "source": [
        "# Training"
      ],
      "metadata": {
        "id": "dtoW4thDXOU6"
      }
    },
    {
      "cell_type": "code",
      "source": [
        "if not (eval_mode)\n",
        "\n",
        "  # Training procedure\n",
        "\n",
        "\n",
        "  # Training and validation loss and accuracy for MNIST plot\n",
        "\n"
      ],
      "metadata": {
        "id": "-VFZ1OstXQ04"
      },
      "execution_count": null,
      "outputs": []
    },
    {
      "cell_type": "markdown",
      "source": [
        "# Evaluation - CIFAR10/Fashion-MNIST"
      ],
      "metadata": {
        "id": "MP2IFBDFXm_8"
      }
    },
    {
      "cell_type": "code",
      "source": [
        "if (eval_mode)\n",
        "  # Load the trained models weights\n",
        "\n",
        "\n",
        "# Baseline results"
      ],
      "metadata": {
        "id": "srzL6sAKXqNa"
      },
      "execution_count": null,
      "outputs": []
    },
    {
      "cell_type": "markdown",
      "source": [
        "**OSR approach:**\n",
        "\n",
        "---\n",
        "\n"
      ],
      "metadata": {
        "id": "u-XqV0ZOYDeU"
      }
    },
    {
      "cell_type": "code",
      "source": [
        "# OOD results\n",
        "\n",
        "\n",
        "# OSR results\n",
        "\n",
        "\n",
        "# t-SNE and/or PCA visualization (optional)\n",
        "\n",
        "\n",
        "# Additional figures (optional)"
      ],
      "metadata": {
        "id": "sMyAzd-4YP-6"
      },
      "execution_count": null,
      "outputs": []
    },
    {
      "cell_type": "markdown",
      "source": [
        "# Evaluation - Unknown Dataset"
      ],
      "metadata": {
        "id": "1xE41sHlYwtQ"
      }
    },
    {
      "cell_type": "code",
      "source": [
        "# placeholder for the combined OSR dataset and dataloader\n",
        "\n",
        "\n",
        "# Load the trained models weights\n",
        "\n",
        "\n",
        "# OOD results\n",
        "\n",
        "\n",
        "# OSR results"
      ],
      "metadata": {
        "id": "OhNEvqK2Y1ie"
      },
      "execution_count": null,
      "outputs": []
    }
  ]
}