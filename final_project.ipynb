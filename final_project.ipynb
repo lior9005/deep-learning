{
  "nbformat": 4,
  "nbformat_minor": 0,
  "metadata": {
    "colab": {
      "provenance": [],
      "gpuType": "T4",
      "authorship_tag": "ABX9TyPjUQUgWmSI1JoEX8+64xGK",
      "include_colab_link": true
    },
    "kernelspec": {
      "name": "python3",
      "display_name": "Python 3"
    },
    "language_info": {
      "name": "python"
    },
    "accelerator": "GPU",
    "widgets": {
      "application/vnd.jupyter.widget-state+json": {
        "35494bdcedb04ddc87c148bbdfd69c66": {
          "model_module": "@jupyter-widgets/controls",
          "model_name": "HBoxModel",
          "model_module_version": "1.5.0",
          "state": {
            "_dom_classes": [],
            "_model_module": "@jupyter-widgets/controls",
            "_model_module_version": "1.5.0",
            "_model_name": "HBoxModel",
            "_view_count": null,
            "_view_module": "@jupyter-widgets/controls",
            "_view_module_version": "1.5.0",
            "_view_name": "HBoxView",
            "box_style": "",
            "children": [
              "IPY_MODEL_2d240243acb945c2b32e445e197edf9d",
              "IPY_MODEL_b074c4efb5d74486a12c39c579b7b571",
              "IPY_MODEL_5f022e295c3647cc8f88c9e6ee435e27"
            ],
            "layout": "IPY_MODEL_c499e1c1453e47b6b282b6aceeefaaf5"
          }
        },
        "2d240243acb945c2b32e445e197edf9d": {
          "model_module": "@jupyter-widgets/controls",
          "model_name": "HTMLModel",
          "model_module_version": "1.5.0",
          "state": {
            "_dom_classes": [],
            "_model_module": "@jupyter-widgets/controls",
            "_model_module_version": "1.5.0",
            "_model_name": "HTMLModel",
            "_view_count": null,
            "_view_module": "@jupyter-widgets/controls",
            "_view_module_version": "1.5.0",
            "_view_name": "HTMLView",
            "description": "",
            "description_tooltip": null,
            "layout": "IPY_MODEL_0cb8c596861340a8abec1aa3bb7f5869",
            "placeholder": "​",
            "style": "IPY_MODEL_7826d2224e704804bc18ee3a0c205bfa",
            "value": "Training MNIST MLP: 100%"
          }
        },
        "b074c4efb5d74486a12c39c579b7b571": {
          "model_module": "@jupyter-widgets/controls",
          "model_name": "FloatProgressModel",
          "model_module_version": "1.5.0",
          "state": {
            "_dom_classes": [],
            "_model_module": "@jupyter-widgets/controls",
            "_model_module_version": "1.5.0",
            "_model_name": "FloatProgressModel",
            "_view_count": null,
            "_view_module": "@jupyter-widgets/controls",
            "_view_module_version": "1.5.0",
            "_view_name": "ProgressView",
            "bar_style": "success",
            "description": "",
            "description_tooltip": null,
            "layout": "IPY_MODEL_d9d6b9650f5646c7a3c4543529050cb0",
            "max": 50,
            "min": 0,
            "orientation": "horizontal",
            "style": "IPY_MODEL_a7419d5677de482cab69872d96e5f86c",
            "value": 50
          }
        },
        "5f022e295c3647cc8f88c9e6ee435e27": {
          "model_module": "@jupyter-widgets/controls",
          "model_name": "HTMLModel",
          "model_module_version": "1.5.0",
          "state": {
            "_dom_classes": [],
            "_model_module": "@jupyter-widgets/controls",
            "_model_module_version": "1.5.0",
            "_model_name": "HTMLModel",
            "_view_count": null,
            "_view_module": "@jupyter-widgets/controls",
            "_view_module_version": "1.5.0",
            "_view_name": "HTMLView",
            "description": "",
            "description_tooltip": null,
            "layout": "IPY_MODEL_e46bfe0ba5894c66883a6236267304e2",
            "placeholder": "​",
            "style": "IPY_MODEL_953ec9b0564c4920aebcdb4209c1e57c",
            "value": " 50/50 [02:36&lt;00:00,  3.28s/it]"
          }
        },
        "c499e1c1453e47b6b282b6aceeefaaf5": {
          "model_module": "@jupyter-widgets/base",
          "model_name": "LayoutModel",
          "model_module_version": "1.2.0",
          "state": {
            "_model_module": "@jupyter-widgets/base",
            "_model_module_version": "1.2.0",
            "_model_name": "LayoutModel",
            "_view_count": null,
            "_view_module": "@jupyter-widgets/base",
            "_view_module_version": "1.2.0",
            "_view_name": "LayoutView",
            "align_content": null,
            "align_items": null,
            "align_self": null,
            "border": null,
            "bottom": null,
            "display": null,
            "flex": null,
            "flex_flow": null,
            "grid_area": null,
            "grid_auto_columns": null,
            "grid_auto_flow": null,
            "grid_auto_rows": null,
            "grid_column": null,
            "grid_gap": null,
            "grid_row": null,
            "grid_template_areas": null,
            "grid_template_columns": null,
            "grid_template_rows": null,
            "height": null,
            "justify_content": null,
            "justify_items": null,
            "left": null,
            "margin": null,
            "max_height": null,
            "max_width": null,
            "min_height": null,
            "min_width": null,
            "object_fit": null,
            "object_position": null,
            "order": null,
            "overflow": null,
            "overflow_x": null,
            "overflow_y": null,
            "padding": null,
            "right": null,
            "top": null,
            "visibility": null,
            "width": null
          }
        },
        "0cb8c596861340a8abec1aa3bb7f5869": {
          "model_module": "@jupyter-widgets/base",
          "model_name": "LayoutModel",
          "model_module_version": "1.2.0",
          "state": {
            "_model_module": "@jupyter-widgets/base",
            "_model_module_version": "1.2.0",
            "_model_name": "LayoutModel",
            "_view_count": null,
            "_view_module": "@jupyter-widgets/base",
            "_view_module_version": "1.2.0",
            "_view_name": "LayoutView",
            "align_content": null,
            "align_items": null,
            "align_self": null,
            "border": null,
            "bottom": null,
            "display": null,
            "flex": null,
            "flex_flow": null,
            "grid_area": null,
            "grid_auto_columns": null,
            "grid_auto_flow": null,
            "grid_auto_rows": null,
            "grid_column": null,
            "grid_gap": null,
            "grid_row": null,
            "grid_template_areas": null,
            "grid_template_columns": null,
            "grid_template_rows": null,
            "height": null,
            "justify_content": null,
            "justify_items": null,
            "left": null,
            "margin": null,
            "max_height": null,
            "max_width": null,
            "min_height": null,
            "min_width": null,
            "object_fit": null,
            "object_position": null,
            "order": null,
            "overflow": null,
            "overflow_x": null,
            "overflow_y": null,
            "padding": null,
            "right": null,
            "top": null,
            "visibility": null,
            "width": null
          }
        },
        "7826d2224e704804bc18ee3a0c205bfa": {
          "model_module": "@jupyter-widgets/controls",
          "model_name": "DescriptionStyleModel",
          "model_module_version": "1.5.0",
          "state": {
            "_model_module": "@jupyter-widgets/controls",
            "_model_module_version": "1.5.0",
            "_model_name": "DescriptionStyleModel",
            "_view_count": null,
            "_view_module": "@jupyter-widgets/base",
            "_view_module_version": "1.2.0",
            "_view_name": "StyleView",
            "description_width": ""
          }
        },
        "d9d6b9650f5646c7a3c4543529050cb0": {
          "model_module": "@jupyter-widgets/base",
          "model_name": "LayoutModel",
          "model_module_version": "1.2.0",
          "state": {
            "_model_module": "@jupyter-widgets/base",
            "_model_module_version": "1.2.0",
            "_model_name": "LayoutModel",
            "_view_count": null,
            "_view_module": "@jupyter-widgets/base",
            "_view_module_version": "1.2.0",
            "_view_name": "LayoutView",
            "align_content": null,
            "align_items": null,
            "align_self": null,
            "border": null,
            "bottom": null,
            "display": null,
            "flex": null,
            "flex_flow": null,
            "grid_area": null,
            "grid_auto_columns": null,
            "grid_auto_flow": null,
            "grid_auto_rows": null,
            "grid_column": null,
            "grid_gap": null,
            "grid_row": null,
            "grid_template_areas": null,
            "grid_template_columns": null,
            "grid_template_rows": null,
            "height": null,
            "justify_content": null,
            "justify_items": null,
            "left": null,
            "margin": null,
            "max_height": null,
            "max_width": null,
            "min_height": null,
            "min_width": null,
            "object_fit": null,
            "object_position": null,
            "order": null,
            "overflow": null,
            "overflow_x": null,
            "overflow_y": null,
            "padding": null,
            "right": null,
            "top": null,
            "visibility": null,
            "width": null
          }
        },
        "a7419d5677de482cab69872d96e5f86c": {
          "model_module": "@jupyter-widgets/controls",
          "model_name": "ProgressStyleModel",
          "model_module_version": "1.5.0",
          "state": {
            "_model_module": "@jupyter-widgets/controls",
            "_model_module_version": "1.5.0",
            "_model_name": "ProgressStyleModel",
            "_view_count": null,
            "_view_module": "@jupyter-widgets/base",
            "_view_module_version": "1.2.0",
            "_view_name": "StyleView",
            "bar_color": null,
            "description_width": ""
          }
        },
        "e46bfe0ba5894c66883a6236267304e2": {
          "model_module": "@jupyter-widgets/base",
          "model_name": "LayoutModel",
          "model_module_version": "1.2.0",
          "state": {
            "_model_module": "@jupyter-widgets/base",
            "_model_module_version": "1.2.0",
            "_model_name": "LayoutModel",
            "_view_count": null,
            "_view_module": "@jupyter-widgets/base",
            "_view_module_version": "1.2.0",
            "_view_name": "LayoutView",
            "align_content": null,
            "align_items": null,
            "align_self": null,
            "border": null,
            "bottom": null,
            "display": null,
            "flex": null,
            "flex_flow": null,
            "grid_area": null,
            "grid_auto_columns": null,
            "grid_auto_flow": null,
            "grid_auto_rows": null,
            "grid_column": null,
            "grid_gap": null,
            "grid_row": null,
            "grid_template_areas": null,
            "grid_template_columns": null,
            "grid_template_rows": null,
            "height": null,
            "justify_content": null,
            "justify_items": null,
            "left": null,
            "margin": null,
            "max_height": null,
            "max_width": null,
            "min_height": null,
            "min_width": null,
            "object_fit": null,
            "object_position": null,
            "order": null,
            "overflow": null,
            "overflow_x": null,
            "overflow_y": null,
            "padding": null,
            "right": null,
            "top": null,
            "visibility": null,
            "width": null
          }
        },
        "953ec9b0564c4920aebcdb4209c1e57c": {
          "model_module": "@jupyter-widgets/controls",
          "model_name": "DescriptionStyleModel",
          "model_module_version": "1.5.0",
          "state": {
            "_model_module": "@jupyter-widgets/controls",
            "_model_module_version": "1.5.0",
            "_model_name": "DescriptionStyleModel",
            "_view_count": null,
            "_view_module": "@jupyter-widgets/base",
            "_view_module_version": "1.2.0",
            "_view_name": "StyleView",
            "description_width": ""
          }
        }
      }
    }
  },
  "cells": [
    {
      "cell_type": "markdown",
      "metadata": {
        "id": "view-in-github",
        "colab_type": "text"
      },
      "source": [
        "<a href=\"https://colab.research.google.com/github/lior9005/deep-learning/blob/main/final_project.ipynb\" target=\"_parent\"><img src=\"https://colab.research.google.com/assets/colab-badge.svg\" alt=\"Open In Colab\"/></a>"
      ]
    },
    {
      "cell_type": "markdown",
      "source": [
        "# ADL final project\n",
        "\n",
        "\n",
        "---\n",
        "\n",
        "\n",
        "**Authors:**\n",
        "> Lior Sharony 316380138\n",
        "\n",
        "\n",
        "> Noam Zigler 314868019\n",
        "\n",
        "\n",
        "> Eden Miran 208742429\n"
      ],
      "metadata": {
        "id": "HlHgPOjlULwb"
      }
    },
    {
      "cell_type": "code",
      "execution_count": 13,
      "metadata": {
        "id": "6Z1nbKeST4aX",
        "colab": {
          "base_uri": "https://localhost:8080/"
        },
        "outputId": "92d865c8-b521-4a79-c3c8-5d68a5fe0b90"
      },
      "outputs": [
        {
          "output_type": "stream",
          "name": "stdout",
          "text": [
            "cuda\n"
          ]
        }
      ],
      "source": [
        "# Imports\n",
        "import torch\n",
        "import numpy as np\n",
        "import matplotlib.pyplot as plt\n",
        "import torch.nn as nn\n",
        "from torch import nn, optim\n",
        "import torch.nn.functional as F\n",
        "import torchvision\n",
        "import torchvision.transforms as transforms\n",
        "from torch.utils.data import DataLoader, Subset, random_split, Subset, Dataset, SubsetRandomSampler\n",
        "from tqdm.auto import tqdm\n",
        "from sklearn.metrics import confusion_matrix\n",
        "from sklearn.cluster import KMeans\n",
        "from sklearn.metrics import accuracy_score\n",
        "import seaborn as sns\n",
        "\n",
        "# Eval mode\n",
        "eval_mode = False\n",
        "ood_as_fashion = True #define the ood\n",
        "device = torch.device(\"cuda\" if torch.cuda.is_available() else \"cpu\")\n",
        "print(device)"
      ]
    },
    {
      "cell_type": "markdown",
      "source": [
        "# 5.2. Data & Preprocessing"
      ],
      "metadata": {
        "id": "x64L0Fk9XASM"
      }
    },
    {
      "cell_type": "code",
      "source": [
        "# OSR Dataset template\n",
        "class CombinedDataset(Dataset):\n",
        "    def __init__(self, mnist, ood, transform_mnist=None, transform_ood=None):\n",
        "        self.mnist = mnist\n",
        "        self.ood = ood\n",
        "        # transforms could be defined either here or when you init each dataset.\n",
        "        self.transform_mnist = transform_mnist\n",
        "        self.transform_ood = transform_ood\n",
        "\n",
        "    def __len__(self):\n",
        "        # combined length of MNIST and OOD\n",
        "        return len(self.mnist) + len(self.ood)\n",
        "\n",
        "    def __getitem__(self, idx):\n",
        "        if idx < len(self.mnist):\n",
        "            # if index is within the range of MNIST, return MNIST data and label\n",
        "            data, label = self.mnist[idx]\n",
        "            if self.transform_mnist:\n",
        "                data = self.transform_mnist(data)\n",
        "            return data, label\n",
        "        else:\n",
        "            # if index is beyond the range of MNIST, return OOD data and 10 as label\n",
        "            data, _ = self.ood[idx - len(self.mnist)]  # adjust index for OOD\n",
        "            if self.transform_ood:\n",
        "                data = self.transform_ood(data)\n",
        "            return data, 10  # OOD label is always 10"
      ],
      "metadata": {
        "id": "1frlbyepYerE"
      },
      "execution_count": 7,
      "outputs": []
    },
    {
      "cell_type": "code",
      "source": [
        "# Transformers\n",
        "mnist_transform = transforms.Compose([\n",
        "    transforms.ToTensor(),\n",
        "    transforms.Normalize((0.5,), (0.5,))\n",
        "])\n",
        "\n",
        "ood_transform = transforms.Compose([\n",
        "    transforms.ToTensor(),\n",
        "    transforms.Grayscale(num_output_channels=1),\n",
        "    transforms.Resize((28, 28)),\n",
        "    transforms.Normalize((0.5,), (0.5,))\n",
        "])\n",
        "\n",
        "# Mnist dataset\n",
        "mnist_train_set = torchvision.datasets.MNIST(root='./data', train=True, download=True, transform=mnist_transform)\n",
        "mnist_test_set = torchvision.datasets.MNIST(root='./data', train=False, download=True, transform=mnist_transform)\n",
        "\n",
        "torch.manual_seed(0)\n",
        "np.random.seed(0)\n",
        "\n",
        "train_size = len(mnist_train_set)\n",
        "mnist_val_size = int(train_size * 0.2)\n",
        "mnist_train_size = train_size - mnist_val_size\n",
        "mnist_train_dataset, mnist_val_dataset = random_split(mnist_train_set, [mnist_train_size, mnist_val_size])\n",
        "\n",
        "train_idx = np.arange(len(mnist_train_dataset))\n",
        "train_subset_idx = np.random.choice(train_idx, 5000)\n",
        "train_subset_sampler = SubsetRandomSampler(train_subset_idx)\n",
        "\n",
        "mnist_train_loader = DataLoader(mnist_train_dataset, batch_size=512, sampler=train_subset_sampler)\n",
        "mnist_val_loader = DataLoader(mnist_val_dataset, batch_size=512, shuffle=False)\n",
        "mnist_test_loader = DataLoader(mnist_test_set, batch_size=1000, shuffle=False)\n",
        "\n",
        "# Ood\n",
        "if(ood_as_fashion):\n",
        "  ood = torchvision.datasets.FashionMNIST(root='./data', train=False, download=True, transform=ood_transform)\n",
        "else:\n",
        "  ood = torchvision.datasets.CIFAR10(root='./data', train=False, download=True, transform=ood_transform)\n",
        "\n",
        "# Generating the combined dataset\n",
        "ood_indices = np.random.choice(len(ood), N, replace=False)\n",
        "ood_subset = Subset(ood, ood_indices)\n",
        "mnist_test_subset_idx = np.random.choice(len(mnist_test_set), N, replace=False)\n",
        "mnist_test_subset = Subset(mnist_test_set, mnist_test_subset_idx)\n",
        "\n",
        "combined_ds = CombinedDataset(mnist_test_subset, ood_subset)\n",
        "combined_ds_loader = DataLoader(combined_ds, batch_size=1024, shuffle=True)"
      ],
      "metadata": {
        "id": "hBVUYatNUKQp"
      },
      "execution_count": 27,
      "outputs": []
    },
    {
      "cell_type": "markdown",
      "source": [
        "#5.3. Models"
      ],
      "metadata": {
        "id": "jJh6x5CLXGVY"
      }
    },
    {
      "cell_type": "code",
      "source": [
        "# Baseline model class\n",
        "class Baseline_model(nn.Module):\n",
        "  def __init__(self):\n",
        "        super(Baseline_model, self).__init__()\n",
        "        self.encoder = nn.Sequential(\n",
        "            nn.Conv2d(in_channels=1, out_channels=64, kernel_size=3, stride=1, padding=1),\n",
        "            nn.ReLU(),\n",
        "            nn.MaxPool2d(kernel_size=2, stride=2),\n",
        "            nn.Conv2d(in_channels=64, out_channels=64, kernel_size=3, stride=1, padding=1),\n",
        "            nn.ReLU(),\n",
        "            nn.MaxPool2d(kernel_size=2, stride=2)\n",
        "          )\n",
        "\n",
        "        self.decoder = nn.Sequential(\n",
        "            nn.ConvTranspose2d(in_channels=64, out_channels=64, kernel_size=3, stride=2, padding=1, output_padding=1),\n",
        "            nn.ReLU(),\n",
        "            nn.ConvTranspose2d(in_channels=64, out_channels=1, kernel_size=3, stride=2, padding=1, output_padding=1),\n",
        "        )\n",
        "\n",
        "        self.clf = nn.Sequential(\n",
        "            nn.Linear(self._get_conv_output(), 10),\n",
        "            nn.LogSoftmax(dim=1)\n",
        "        )\n",
        "\n",
        "  def _get_conv_output(self, shape = (1,28,28)):\n",
        "    #Computes the size of the flattened features after the convolutional layers.\n",
        "      with torch.no_grad():\n",
        "          batch_size = 1\n",
        "          input = torch.rand(batch_size, *shape)\n",
        "          output_feat = self.encoder(input)\n",
        "          n_size = output_feat.view(batch_size, -1).shape[1]\n",
        "      return n_size\n",
        "\n",
        "  def forward(self,x):\n",
        "      encoded_vector = self.encoder(x)\n",
        "      encoded_vector_clf = encoded_vector.view(encoded_vector.size(0), -1)\n",
        "      pred = self.clf(encoded_vector_clf)\n",
        "      recon = self.decoder(encoded_vector)\n",
        "      return pred, recon\n",
        "\n",
        "'''\n",
        "# OSR model class\n",
        "class OSR_model(nn.Baseline_model):\n",
        "  def __init__(self):\n",
        "        super(OSR_model, self).__init__()\n",
        "\n",
        "        self.decoder = nn.Sequential(\n",
        "            nn.ConvTranspose2d(in_channels = 64, out_channels = 64, kernel_size=3, stride=1, padding=1),\n",
        "            nn.ReLU(),\n",
        "            nn.ConvTranspose2d(in_channels = 64, out_channels = 1, kernel_size=3, stride=1, padding=1),\n",
        "            nn.ReLU(),\n",
        "        )\n",
        "  def forward(self,x):\n",
        "      encoded_vector = self.encoder(x)\n",
        "      encoded_vector_clf = encoded_vector.view(encoded_vector.size(0), -1)\n",
        "      pred = self.clf(encoded_vector_clf)\n",
        "      recon = self.decoder(encoded_vector)\n",
        "      return pred\n",
        "'''\n"
      ],
      "metadata": {
        "id": "9k2F1LYhWPxF",
        "colab": {
          "base_uri": "https://localhost:8080/",
          "height": 122
        },
        "outputId": "849546ce-2d52-4506-8a8a-9a26e61cc9c0"
      },
      "execution_count": 10,
      "outputs": [
        {
          "output_type": "execute_result",
          "data": {
            "text/plain": [
              "'\\n# OSR model class\\nclass OSR_model(nn.Baseline_model):\\n  def __init__(self):\\n        super(OSR_model, self).__init__()\\n\\n        self.decoder = nn.Sequential(\\n            nn.ConvTranspose2d(in_channels = 64, out_channels = 64, kernel_size=3, stride=1, padding=1),\\n            nn.ReLU(),\\n            nn.ConvTranspose2d(in_channels = 64, out_channels = 1, kernel_size=3, stride=1, padding=1),\\n            nn.ReLU(),\\n        )\\n  def forward(self,x):\\n      encoded_vector = self.encoder(x)\\n      encoded_vector_clf = encoded_vector.view(encoded_vector.size(0), -1)\\n      pred = self.clf(encoded_vector_clf)\\n      recon = self.decoder(encoded_vector)\\n      return pred\\n'"
            ],
            "application/vnd.google.colaboratory.intrinsic+json": {
              "type": "string"
            }
          },
          "metadata": {},
          "execution_count": 10
        }
      ]
    },
    {
      "cell_type": "markdown",
      "source": [
        "#5.4. Training"
      ],
      "metadata": {
        "id": "dtoW4thDXOU6"
      }
    },
    {
      "cell_type": "code",
      "source": [
        "if not (eval_mode):\n",
        "\n",
        "  def train_baseline_model(model, train_loader, val_loader, clf_criterion, recon_criterion, optimizer, num_epochs):\n",
        "    # Dictionary to store training and validation statistics\n",
        "    results_dict = {\n",
        "        'train_clf_loss': [],\n",
        "        'val_clf_loss': [],\n",
        "        'train_recon_loss': [],\n",
        "        'val_recon_loss': [],\n",
        "        'val_acc': [],\n",
        "        'train_acc': []\n",
        "    }\n",
        "\n",
        "    # Loop over each epoch\n",
        "    for epoch in tqdm(range(num_epochs), desc=\"Training MNIST MLP\"):\n",
        "        for phase in ['train', 'val']:  # Training phase and validation phase\n",
        "            if phase == 'train':\n",
        "                model.train()  # Set model to training mode\n",
        "                dataloader = train_loader\n",
        "            else:\n",
        "                model.eval()  # Set model to evaluation mode\n",
        "                dataloader = val_loader\n",
        "\n",
        "            # Initialize statistics for loss and accuracy\n",
        "            running_loss = 0.0\n",
        "            running_corrects = 0\n",
        "            total_samples = 0\n",
        "            running_recon_loss = 0.0\n",
        "\n",
        "            for inputs, labels in dataloader:\n",
        "                inputs = inputs.to(device)\n",
        "                labels = labels.to(device)\n",
        "\n",
        "                # Zero the parameter gradients\n",
        "                optimizer.zero_grad()\n",
        "\n",
        "                # Forward pass (with gradient tracking during training)\n",
        "                with torch.set_grad_enabled(phase == 'train'):\n",
        "                    # Get outputs and reconstructions from the model\n",
        "                    outputs, recon = model(inputs)\n",
        "\n",
        "                    # Classifier loss (CrossEntropyLoss)\n",
        "                    clf_loss = clf_criterion(outputs, labels)\n",
        "\n",
        "                    # Reconstruction loss (Mean Squared Error)\n",
        "                    recon_loss = recon_criterion(recon, inputs)\n",
        "\n",
        "                    # Total loss is the sum of classifier and reconstruction loss\n",
        "                    total_loss = clf_loss + recon_loss\n",
        "\n",
        "                    if phase == 'train':\n",
        "                        # Backpropagation and optimizer step during training\n",
        "                        total_loss.backward()\n",
        "                        optimizer.step()\n",
        "\n",
        "                # Update statistics for both loss and accuracy\n",
        "                running_loss += total_loss.item() * inputs.size(0)\n",
        "                running_corrects += torch.sum(torch.argmax(outputs, 1) == labels.data)\n",
        "                running_recon_loss += recon_loss.item() * inputs.size(0)\n",
        "                total_samples += labels.size(0)\n",
        "\n",
        "            # Calculate average loss and accuracy for the epoch\n",
        "            epoch_clf_loss = running_loss / total_samples\n",
        "            epoch_clf_acc = running_corrects.double() / total_samples\n",
        "            epoch_recon_loss = running_recon_loss / total_samples\n",
        "\n",
        "            # Store results\n",
        "            results_dict[f'{phase}_clf_loss'].append(epoch_clf_loss)\n",
        "            results_dict[f'{phase}_acc'].append(epoch_clf_acc.item())\n",
        "            results_dict[f'{phase}_recon_loss'].append(epoch_recon_loss)\n",
        "    return results_dict\n",
        "\n",
        "  # OSR model training function\n",
        "\n",
        "\n",
        "\n",
        "  def plot_training_results(result_dict):\n",
        "    plt.plot(result_dict['train_acc'], label='Training Accuracy')\n",
        "    plt.plot(result_dict['val_acc'], label='Validation Accuracy')\n",
        "    plt.xlabel('Epoch')\n",
        "    plt.ylabel('Accuracy (%)')\n",
        "    plt.title('Training and Validation Accuracy')\n",
        "    plt.legend()\n",
        "    plt.grid(True)\n",
        "    final_train_acc = result_dict['train_acc'][-1]\n",
        "    final_val_acc = result_dict['val_acc'][-1]\n",
        "    offset = 0.5\n",
        "    plt.text(len(result_dict['train_acc']) - 1, final_train_acc, f'{final_train_acc*100:.2f}%', ha='right', va='bottom')\n",
        "    plt.text(len(result_dict['val_acc']) - 1, final_val_acc, f'{final_val_acc*100:.2f}%', ha='right', va='bottom')\n",
        "    plt.show()\n",
        "\n",
        "    plt.plot(result_dict['train_clf_loss'], label='Training clf Loss')\n",
        "    plt.plot(result_dict['train_recon_loss'], label='Training recon Loss')\n",
        "    plt.xlabel('Epoch')\n",
        "    plt.ylabel('Loss')\n",
        "    plt.title('Training Loss')\n",
        "    plt.legend()\n",
        "    plt.grid(True)\n",
        "    final_clf_train_loss =result_dict['train_clf_loss'][-1]\n",
        "    final_recon_train_loss = result_dict['train_recon_loss'][-1]\n",
        "    plt.text(len(result_dict['train_clf_loss']) - 1, final_clf_train_loss, f'{final_clf_train_loss:.2f}', ha='right', va='bottom')\n",
        "    plt.text(len(result_dict['train_recon_loss']) - 1, final_recon_train_loss, f'{final_recon_train_loss:.2f}', ha='right', va='bottom')\n",
        "    plt.show()\n",
        "\n",
        "  # Training and validation loss and accuracy for MNIST plot - baseline model\n",
        "  baseline_num_epoch = 50\n",
        "  baseline_model = Baseline_model().to(device)\n",
        "  lr = 0.1\n",
        "  clf_criterion = nn.NLLLoss()\n",
        "  recon_criterion = nn.MSELoss()\n",
        "  optimizer = optim.SGD(baseline_model.parameters(), lr=lr, momentum=0.9)\n",
        "\n",
        "  result_dict = train_baseline_model(baseline_model,mnist_train_loader, mnist_val_loader, clf_criterion, recon_criterion, optimizer, baseline_num_epoch)\n",
        "  plot_training_results(result_dict)\n",
        "\n",
        "    # Training and validation loss and accuracy for MNIST plot - osr model\n",
        "\n",
        "\n",
        "\n",
        "\n",
        "# save the weights\n",
        "  torch.save(baseline_model.state_dict(), './baseline model.pth')\n"
      ],
      "metadata": {
        "id": "-VFZ1OstXQ04",
        "outputId": "6a01c096-7ca7-4468-ae96-682b63a3c38e",
        "colab": {
          "base_uri": "https://localhost:8080/",
          "height": 959,
          "referenced_widgets": [
            "35494bdcedb04ddc87c148bbdfd69c66",
            "2d240243acb945c2b32e445e197edf9d",
            "b074c4efb5d74486a12c39c579b7b571",
            "5f022e295c3647cc8f88c9e6ee435e27",
            "c499e1c1453e47b6b282b6aceeefaaf5",
            "0cb8c596861340a8abec1aa3bb7f5869",
            "7826d2224e704804bc18ee3a0c205bfa",
            "d9d6b9650f5646c7a3c4543529050cb0",
            "a7419d5677de482cab69872d96e5f86c",
            "e46bfe0ba5894c66883a6236267304e2",
            "953ec9b0564c4920aebcdb4209c1e57c"
          ]
        }
      },
      "execution_count": 11,
      "outputs": [
        {
          "output_type": "display_data",
          "data": {
            "text/plain": [
              "Training MNIST MLP:   0%|          | 0/50 [00:00<?, ?it/s]"
            ],
            "application/vnd.jupyter.widget-view+json": {
              "version_major": 2,
              "version_minor": 0,
              "model_id": "35494bdcedb04ddc87c148bbdfd69c66"
            }
          },
          "metadata": {}
        },
        {
          "output_type": "display_data",
          "data": {
            "text/plain": [
              "<Figure size 640x480 with 1 Axes>"
            ],
            "image/png": "[encoded data removed]"
          },
          "metadata": {}
        },
        {
          "output_type": "display_data",
          "data": {
            "text/plain": [
              "<Figure size 640x480 with 1 Axes>"
            ],
            "image/png": "[encoded data removed]"
          },
          "metadata": {}
        }
      ]
    },
    {
      "cell_type": "markdown",
      "source": [
        "#5.5 Evaluation - CIFAR10/Fashion-MNIST"
      ],
      "metadata": {
        "id": "MP2IFBDFXm_8"
      }
    },
    {
      "cell_type": "markdown",
      "source": [
        "**Baseline results:**"
      ],
      "metadata": {
        "id": "psd09Ri388iu"
      }
    },
    {
      "cell_type": "code",
      "source": [
        "if (eval_mode):\n",
        "    # Load the trained models weights\n",
        "    baseline_model = Baseline_model()\n",
        "    baseline_model.load_state_dict(torch.load('./baseline model.pth'))\n",
        "    baseline_model.to(device)\n",
        "    baseline_model.eval()\n",
        "\n",
        "def eval_baseline(model, testloader):\n",
        "    correct = 0\n",
        "    total = 0\n",
        "    all_predicted = []\n",
        "    all_labels = []\n",
        "    with torch.no_grad():\n",
        "        for images, labels in testloader:\n",
        "            labels = labels.to(device)\n",
        "            images = images.to(device)\n",
        "            outputs, _  = model(images)\n",
        "            _, predicted = torch.max(outputs.data, 1)\n",
        "            total += labels.size(0)\n",
        "            correct += (predicted == labels).sum().item()\n",
        "\n",
        "            # Accumulate predictions and labels for confusion matrix\n",
        "            all_predicted.extend(predicted.cpu().numpy())\n",
        "            all_labels.extend(labels.cpu().numpy())\n",
        "\n",
        "    accuracy = 100 * correct / total\n",
        "\n",
        "    # Calculate confusion matrix\n",
        "    cm = confusion_matrix(all_labels, all_predicted)\n",
        "\n",
        "    return accuracy, cm\n",
        "\n",
        "# Baseline results\n",
        "accuracy, cm = eval_baseline(baseline_model, mnist_test_loader)\n",
        "plt.figure(figsize=(10, 7))\n",
        "sns.heatmap(cm, annot=True, fmt=\"d\", cmap=\"Blues\",\n",
        "            xticklabels=range(10), yticklabels=range(10))\n",
        "plt.title(f\"Confusion Matrix, accuracy: {accuracy:.2f}%\")\n",
        "plt.ylabel(\"Actual Label\")\n",
        "plt.xlabel(\"Predicted Label\")\n",
        "plt.show()"
      ],
      "metadata": {
        "id": "srzL6sAKXqNa",
        "colab": {
          "base_uri": "https://localhost:8080/",
          "height": 641
        },
        "outputId": "34035ccb-36d3-49b5-94ff-31c045db6dbe"
      },
      "execution_count": 25,
      "outputs": [
        {
          "output_type": "display_data",
          "data": {
            "text/plain": [
              "<Figure size 1000x700 with 2 Axes>"
            ],
            "image/png": "[encoded data removed]"
          },
          "metadata": {}
        }
      ]
    },
    {
      "cell_type": "markdown",
      "source": [
        "**5.5.3. OSR approach:**\n",
        "\n",
        "TO FILL\n",
        "❌-❌❌❌❌❌❌❌❌❌--\n",
        "\n"
      ],
      "metadata": {
        "id": "u-XqV0ZOYDeU"
      }
    },
    {
      "cell_type": "code",
      "source": [
        "# OOD results\n",
        "\n",
        "def map_to_binary_class(predictions, true_labels, known_class=0, unknown_class=1):\n",
        "    # Map MNIST labels to known (0) and OOD labels to unknown (1)\n",
        "    true_labels_mapped = torch.where(true_labels < 10, known_class, unknown_class)  # MNIST labels are < 10\n",
        "    predictions_mapped = torch.where(predictions < 10, known_class, unknown_class)  # Same for predicted values\n",
        "    return true_labels_mapped, predictions_mapped\n",
        "\n",
        "# Collect true labels and predictions\n",
        "all_true_labels = []\n",
        "all_predictions = []\n",
        "\n",
        "with torch.no_grad():\n",
        "    for images, labels in combined_ds_loader:\n",
        "        images, labels = images.to(device), labels.to(device)\n",
        "        # Get model predictions\n",
        "        outputs, _ = baseline_model(images)\n",
        "        _, predicted = torch.max(outputs, 1)\n",
        "\n",
        "        # Map labels and predictions to binary classes\n",
        "        true_labels_mapped, predictions_mapped = map_to_binary_class(predicted, labels)\n",
        "\n",
        "        all_true_labels.extend(true_labels_mapped.cpu().numpy())\n",
        "        all_predictions.extend(predictions_mapped.cpu().numpy())\n",
        "\n",
        "# Calculate binary classification accuracy\n",
        "accuracy = accuracy_score(all_true_labels, all_predictions)\n",
        "print(f\"Binary classification accuracy: {accuracy * 100:.2f}%\")\n",
        "\n",
        "# Generate confusion matrix\n",
        "cm = confusion_matrix(all_true_labels, all_predictions)\n",
        "\n",
        "# Plot the confusion matrix\n",
        "plt.figure(figsize=(6, 5))\n",
        "sns.heatmap(cm, annot=True, fmt='d', cmap='Blues', xticklabels=['Known', 'Unknown'], yticklabels=['Known', 'Unknown'])\n",
        "plt.xlabel('Predicted')\n",
        "plt.ylabel('True')\n",
        "plt.title('Confusion Matrix')\n",
        "plt.show()\n",
        "\n",
        "# OSR results\n",
        "\n",
        "def eval_model(model, data_loader, device):\n",
        "    \"\"\" Evaluation function for the OSR task.\n",
        "    Given your OSR predictions, comptues the accuracy on MNIST, OOD set and both.\n",
        "    Note - this function does NOT computes the MNIST baseline accruacy.\n",
        "    Returns:\n",
        "     - acc_mnist\n",
        "     - acc_ood\n",
        "     - acc_total\n",
        "    \"\"\"\n",
        "\n",
        "    # Ensure model is in evaluation mode\n",
        "    model.eval()\n",
        "\n",
        "    correct_mnist = 0\n",
        "    total_mnist = 0\n",
        "    correct_ood = 0\n",
        "    total_ood = 0\n",
        "\n",
        "    # No need to track gradients for evaluation, saves memory and computations\n",
        "    with torch.no_grad():\n",
        "        for data, labels in data_loader:\n",
        "            data, labels = data.to(device), labels.to(device)\n",
        "\n",
        "            ### Modify output if needed ###\n",
        "            data = data.view(-1, 28*28)\n",
        "            # Model outputs\n",
        "            outputs = model(data)\n",
        "\n",
        "\n",
        "            # y pred should be a vector of size (N_batch,) -> [5, 2, ..., 10]\n",
        "            # and not one-hot. You can handle this either in your model or here.\n",
        "\n",
        "            # Assuming the model returns an (N_batch, 11) size output\n",
        "            probas, y_pred = torch.max(outputs, 1)\n",
        "\n",
        "            # Split MNIST and OOD predictions and labels\n",
        "            # Assuming numerical labels, which is MNIST/CIFAR datasets default\n",
        "            # Note: Not one-hot!\n",
        "            mask_mnist = labels < 10\n",
        "            mask_ood = ~mask_mnist\n",
        "            labels_mnist = labels[mask_mnist]\n",
        "            labels_ood = labels[mask_ood]\n",
        "\n",
        "            pred_mnist = y_pred[mask_mnist]\n",
        "            pred_ood = y_pred[mask_ood]\n",
        "\n",
        "            total_mnist += labels_mnist.size(0)\n",
        "            total_ood += labels_ood.size(0)\n",
        "            correct_mnist += (pred_mnist == labels_mnist).sum().item()\n",
        "            correct_ood += (pred_ood == labels_ood).sum().item()\n",
        "\n",
        "    acc_mnist = correct_mnist / total_mnist\n",
        "    acc_ood = correct_ood / total_ood\n",
        "    acc_total = (correct_mnist + correct_ood) / (total_mnist + total_ood)\n",
        "\n",
        "    return acc_mnist, acc_ood, acc_total\n",
        "\n",
        "\n",
        "# t-SNE and/or PCA visualization (optional)\n",
        "\n",
        "\n",
        "# Additional figures (optional)"
      ],
      "metadata": {
        "id": "sMyAzd-4YP-6",
        "outputId": "b8e1a52b-d655-4dfd-9400-017cb73cdf6f",
        "colab": {
          "base_uri": "https://localhost:8080/",
          "height": 504
        }
      },
      "execution_count": 28,
      "outputs": [
        {
          "output_type": "stream",
          "name": "stdout",
          "text": [
            "Binary classification accuracy: 50.00%\n"
          ]
        },
        {
          "output_type": "display_data",
          "data": {
            "text/plain": [
              "<Figure size 600x500 with 2 Axes>"
            ],
            "image/png": "[encoded data removed]"
          },
          "metadata": {}
        }
      ]
    },
    {
      "cell_type": "markdown",
      "source": [
        "# Evaluation - Unknown Dataset"
      ],
      "metadata": {
        "id": "1xE41sHlYwtQ"
      }
    },
    {
      "cell_type": "code",
      "source": [
        "# placeholder for the combined OSR dataset and dataloader\n",
        "\n",
        "\n",
        "# Load the trained models weights\n",
        "\n",
        "\n",
        "# OOD results\n",
        "\n",
        "\n",
        "# OSR results"
      ],
      "metadata": {
        "id": "OhNEvqK2Y1ie"
      },
      "execution_count": null,
      "outputs": []
    }
  ]
}