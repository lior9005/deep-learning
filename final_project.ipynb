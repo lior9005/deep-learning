{
  "nbformat": 4,
  "nbformat_minor": 0,
  "metadata": {
    "colab": {
      "provenance": [],
      "toc_visible": true,
      "authorship_tag": "ABX9TyNw2Dpne+XmDN7uTDcpMDOZ",
      "include_colab_link": true
    },
    "kernelspec": {
      "name": "python3",
      "display_name": "Python 3"
    },
    "language_info": {
      "name": "python"
    }
  },
  "cells": [
    {
      "cell_type": "markdown",
      "metadata": {
        "id": "view-in-github",
        "colab_type": "text"
      },
      "source": [
        "<a href=\"https://colab.research.google.com/github/lior9005/deep-learning/blob/main/final_project.ipynb\" target=\"_parent\"><img src=\"https://colab.research.google.com/assets/colab-badge.svg\" alt=\"Open In Colab\"/></a>"
      ]
    },
    {
      "cell_type": "markdown",
      "source": [
        "# ADL final project\n",
        "\n",
        "\n",
        "---\n",
        "\n",
        "\n",
        "**Authors:**\n",
        "> Lior Sharony 316380138\n",
        "\n",
        "\n",
        "> Noam Zigler ********\n",
        "\n",
        "\n",
        "> Eden Miran *********\n"
      ],
      "metadata": {
        "id": "HlHgPOjlULwb"
      }
    },
    {
      "cell_type": "code",
      "execution_count": null,
      "metadata": {
        "id": "6Z1nbKeST4aX"
      },
      "outputs": [],
      "source": [
        "# imports\n",
        "\n",
        "\n",
        "# Eval mode\n",
        "eval_mode = True"
      ]
    },
    {
      "cell_type": "markdown",
      "source": [
        "# Data & Preprocessing"
      ],
      "metadata": {
        "id": "x64L0Fk9XASM"
      }
    },
    {
      "cell_type": "code",
      "source": [
        "#datasets, dataloaders, transformations\n",
        "\n",
        "\n",
        "#subset of CIFAR10/FashionMNIST\n"
      ],
      "metadata": {
        "id": "hBVUYatNUKQp"
      },
      "execution_count": null,
      "outputs": []
    },
    {
      "cell_type": "markdown",
      "source": [
        "# Models"
      ],
      "metadata": {
        "id": "jJh6x5CLXGVY"
      }
    },
    {
      "cell_type": "code",
      "source": [
        "# Baseline model class\n",
        "\n",
        "\n",
        "# OSR model class\n",
        "\n"
      ],
      "metadata": {
        "id": "9k2F1LYhWPxF"
      },
      "execution_count": null,
      "outputs": []
    },
    {
      "cell_type": "markdown",
      "source": [
        "# Training"
      ],
      "metadata": {
        "id": "dtoW4thDXOU6"
      }
    },
    {
      "cell_type": "code",
      "source": [
        "if not (eval_mode)\n",
        "\n",
        "  # Training procedure\n",
        "\n",
        "\n",
        "  # Training and validation loss and accuracy for MNIST plot\n",
        "\n"
      ],
      "metadata": {
        "id": "-VFZ1OstXQ04"
      },
      "execution_count": null,
      "outputs": []
    },
    {
      "cell_type": "markdown",
      "source": [
        "# Evaluation - CIFAR10/Fashion-MNIST"
      ],
      "metadata": {
        "id": "MP2IFBDFXm_8"
      }
    },
    {
      "cell_type": "code",
      "source": [
        "if (eval_mode)\n",
        "  # Load the trained models weights\n",
        "\n",
        "\n",
        "# Baseline results"
      ],
      "metadata": {
        "id": "srzL6sAKXqNa"
      },
      "execution_count": null,
      "outputs": []
    },
    {
      "cell_type": "markdown",
      "source": [
        "**OSR approach:**\n",
        "\n",
        "---\n",
        "\n"
      ],
      "metadata": {
        "id": "u-XqV0ZOYDeU"
      }
    },
    {
      "cell_type": "code",
      "source": [
        "# OOD results\n",
        "\n",
        "\n",
        "# OSR results\n",
        "\n",
        "\n",
        "# t-SNE and/or PCA visualization (optional)\n",
        "\n",
        "\n",
        "# Additional figures (optional)"
      ],
      "metadata": {
        "id": "sMyAzd-4YP-6"
      },
      "execution_count": null,
      "outputs": []
    },
    {
      "cell_type": "markdown",
      "source": [
        "# Evaluation - Unknown Dataset"
      ],
      "metadata": {
        "id": "1xE41sHlYwtQ"
      }
    },
    {
      "cell_type": "code",
      "source": [
        "# placeholder for the combined OSR dataset and dataloader\n",
        "\n",
        "\n",
        "# Load the trained models weights\n",
        "\n",
        "\n",
        "# OOD results\n",
        "\n",
        "\n",
        "# OSR results"
      ],
      "metadata": {
        "id": "OhNEvqK2Y1ie"
      },
      "execution_count": null,
      "outputs": []
    }
  ]
}