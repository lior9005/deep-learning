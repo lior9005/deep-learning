{
  "nbformat": 4,
  "nbformat_minor": 0,
  "metadata": {
    "colab": {
      "provenance": [],
      "gpuType": "T4",
      "authorship_tag": "ABX9TyPNdgQhD7/vcagWBMZW3v4J",
      "include_colab_link": true
    },
    "kernelspec": {
      "name": "python3",
      "display_name": "Python 3"
    },
    "language_info": {
      "name": "python"
    },
    "accelerator": "GPU",
    "widgets": {
      "application/vnd.jupyter.widget-state+json": {
        "b5a92bbee4e644049a144646b546ae34": {
          "model_module": "@jupyter-widgets/controls",
          "model_name": "HBoxModel",
          "model_module_version": "1.5.0",
          "state": {
            "_dom_classes": [],
            "_model_module": "@jupyter-widgets/controls",
            "_model_module_version": "1.5.0",
            "_model_name": "HBoxModel",
            "_view_count": null,
            "_view_module": "@jupyter-widgets/controls",
            "_view_module_version": "1.5.0",
            "_view_name": "HBoxView",
            "box_style": "",
            "children": [
              "IPY_MODEL_da0da239e8674d9d8b9c5ff3013e37f1",
              "IPY_MODEL_2b1ecf5ac2524c2f8890c410ad975887",
              "IPY_MODEL_44fd44354ab14991b68c902bc663a3cc"
            ],
            "layout": "IPY_MODEL_c0510976e51c42b1a83d0d83f419ea33"
          }
        },
        "da0da239e8674d9d8b9c5ff3013e37f1": {
          "model_module": "@jupyter-widgets/controls",
          "model_name": "HTMLModel",
          "model_module_version": "1.5.0",
          "state": {
            "_dom_classes": [],
            "_model_module": "@jupyter-widgets/controls",
            "_model_module_version": "1.5.0",
            "_model_name": "HTMLModel",
            "_view_count": null,
            "_view_module": "@jupyter-widgets/controls",
            "_view_module_version": "1.5.0",
            "_view_name": "HTMLView",
            "description": "",
            "description_tooltip": null,
            "layout": "IPY_MODEL_4bdc38185817463ba8b832a5068d1497",
            "placeholder": "​",
            "style": "IPY_MODEL_177017be04c14b9abd62fa3e1bad92fd",
            "value": "Training MNIST MLP: 100%"
          }
        },
        "2b1ecf5ac2524c2f8890c410ad975887": {
          "model_module": "@jupyter-widgets/controls",
          "model_name": "FloatProgressModel",
          "model_module_version": "1.5.0",
          "state": {
            "_dom_classes": [],
            "_model_module": "@jupyter-widgets/controls",
            "_model_module_version": "1.5.0",
            "_model_name": "FloatProgressModel",
            "_view_count": null,
            "_view_module": "@jupyter-widgets/controls",
            "_view_module_version": "1.5.0",
            "_view_name": "ProgressView",
            "bar_style": "success",
            "description": "",
            "description_tooltip": null,
            "layout": "IPY_MODEL_4cef60de1f6e43988ced45224bbc461b",
            "max": 20,
            "min": 0,
            "orientation": "horizontal",
            "style": "IPY_MODEL_312d439efe814326ae417bab7112b3e5",
            "value": 20
          }
        },
        "44fd44354ab14991b68c902bc663a3cc": {
          "model_module": "@jupyter-widgets/controls",
          "model_name": "HTMLModel",
          "model_module_version": "1.5.0",
          "state": {
            "_dom_classes": [],
            "_model_module": "@jupyter-widgets/controls",
            "_model_module_version": "1.5.0",
            "_model_name": "HTMLModel",
            "_view_count": null,
            "_view_module": "@jupyter-widgets/controls",
            "_view_module_version": "1.5.0",
            "_view_name": "HTMLView",
            "description": "",
            "description_tooltip": null,
            "layout": "IPY_MODEL_f2f56da02dcc458ab116c691f53c7a69",
            "placeholder": "​",
            "style": "IPY_MODEL_e790514b2fd34932964677c0e359ee93",
            "value": " 20/20 [02:36&lt;00:00,  7.43s/it]"
          }
        },
        "c0510976e51c42b1a83d0d83f419ea33": {
          "model_module": "@jupyter-widgets/base",
          "model_name": "LayoutModel",
          "model_module_version": "1.2.0",
          "state": {
            "_model_module": "@jupyter-widgets/base",
            "_model_module_version": "1.2.0",
            "_model_name": "LayoutModel",
            "_view_count": null,
            "_view_module": "@jupyter-widgets/base",
            "_view_module_version": "1.2.0",
            "_view_name": "LayoutView",
            "align_content": null,
            "align_items": null,
            "align_self": null,
            "border": null,
            "bottom": null,
            "display": null,
            "flex": null,
            "flex_flow": null,
            "grid_area": null,
            "grid_auto_columns": null,
            "grid_auto_flow": null,
            "grid_auto_rows": null,
            "grid_column": null,
            "grid_gap": null,
            "grid_row": null,
            "grid_template_areas": null,
            "grid_template_columns": null,
            "grid_template_rows": null,
            "height": null,
            "justify_content": null,
            "justify_items": null,
            "left": null,
            "margin": null,
            "max_height": null,
            "max_width": null,
            "min_height": null,
            "min_width": null,
            "object_fit": null,
            "object_position": null,
            "order": null,
            "overflow": null,
            "overflow_x": null,
            "overflow_y": null,
            "padding": null,
            "right": null,
            "top": null,
            "visibility": null,
            "width": null
          }
        },
        "4bdc38185817463ba8b832a5068d1497": {
          "model_module": "@jupyter-widgets/base",
          "model_name": "LayoutModel",
          "model_module_version": "1.2.0",
          "state": {
            "_model_module": "@jupyter-widgets/base",
            "_model_module_version": "1.2.0",
            "_model_name": "LayoutModel",
            "_view_count": null,
            "_view_module": "@jupyter-widgets/base",
            "_view_module_version": "1.2.0",
            "_view_name": "LayoutView",
            "align_content": null,
            "align_items": null,
            "align_self": null,
            "border": null,
            "bottom": null,
            "display": null,
            "flex": null,
            "flex_flow": null,
            "grid_area": null,
            "grid_auto_columns": null,
            "grid_auto_flow": null,
            "grid_auto_rows": null,
            "grid_column": null,
            "grid_gap": null,
            "grid_row": null,
            "grid_template_areas": null,
            "grid_template_columns": null,
            "grid_template_rows": null,
            "height": null,
            "justify_content": null,
            "justify_items": null,
            "left": null,
            "margin": null,
            "max_height": null,
            "max_width": null,
            "min_height": null,
            "min_width": null,
            "object_fit": null,
            "object_position": null,
            "order": null,
            "overflow": null,
            "overflow_x": null,
            "overflow_y": null,
            "padding": null,
            "right": null,
            "top": null,
            "visibility": null,
            "width": null
          }
        },
        "177017be04c14b9abd62fa3e1bad92fd": {
          "model_module": "@jupyter-widgets/controls",
          "model_name": "DescriptionStyleModel",
          "model_module_version": "1.5.0",
          "state": {
            "_model_module": "@jupyter-widgets/controls",
            "_model_module_version": "1.5.0",
            "_model_name": "DescriptionStyleModel",
            "_view_count": null,
            "_view_module": "@jupyter-widgets/base",
            "_view_module_version": "1.2.0",
            "_view_name": "StyleView",
            "description_width": ""
          }
        },
        "4cef60de1f6e43988ced45224bbc461b": {
          "model_module": "@jupyter-widgets/base",
          "model_name": "LayoutModel",
          "model_module_version": "1.2.0",
          "state": {
            "_model_module": "@jupyter-widgets/base",
            "_model_module_version": "1.2.0",
            "_model_name": "LayoutModel",
            "_view_count": null,
            "_view_module": "@jupyter-widgets/base",
            "_view_module_version": "1.2.0",
            "_view_name": "LayoutView",
            "align_content": null,
            "align_items": null,
            "align_self": null,
            "border": null,
            "bottom": null,
            "display": null,
            "flex": null,
            "flex_flow": null,
            "grid_area": null,
            "grid_auto_columns": null,
            "grid_auto_flow": null,
            "grid_auto_rows": null,
            "grid_column": null,
            "grid_gap": null,
            "grid_row": null,
            "grid_template_areas": null,
            "grid_template_columns": null,
            "grid_template_rows": null,
            "height": null,
            "justify_content": null,
            "justify_items": null,
            "left": null,
            "margin": null,
            "max_height": null,
            "max_width": null,
            "min_height": null,
            "min_width": null,
            "object_fit": null,
            "object_position": null,
            "order": null,
            "overflow": null,
            "overflow_x": null,
            "overflow_y": null,
            "padding": null,
            "right": null,
            "top": null,
            "visibility": null,
            "width": null
          }
        },
        "312d439efe814326ae417bab7112b3e5": {
          "model_module": "@jupyter-widgets/controls",
          "model_name": "ProgressStyleModel",
          "model_module_version": "1.5.0",
          "state": {
            "_model_module": "@jupyter-widgets/controls",
            "_model_module_version": "1.5.0",
            "_model_name": "ProgressStyleModel",
            "_view_count": null,
            "_view_module": "@jupyter-widgets/base",
            "_view_module_version": "1.2.0",
            "_view_name": "StyleView",
            "bar_color": null,
            "description_width": ""
          }
        },
        "f2f56da02dcc458ab116c691f53c7a69": {
          "model_module": "@jupyter-widgets/base",
          "model_name": "LayoutModel",
          "model_module_version": "1.2.0",
          "state": {
            "_model_module": "@jupyter-widgets/base",
            "_model_module_version": "1.2.0",
            "_model_name": "LayoutModel",
            "_view_count": null,
            "_view_module": "@jupyter-widgets/base",
            "_view_module_version": "1.2.0",
            "_view_name": "LayoutView",
            "align_content": null,
            "align_items": null,
            "align_self": null,
            "border": null,
            "bottom": null,
            "display": null,
            "flex": null,
            "flex_flow": null,
            "grid_area": null,
            "grid_auto_columns": null,
            "grid_auto_flow": null,
            "grid_auto_rows": null,
            "grid_column": null,
            "grid_gap": null,
            "grid_row": null,
            "grid_template_areas": null,
            "grid_template_columns": null,
            "grid_template_rows": null,
            "height": null,
            "justify_content": null,
            "justify_items": null,
            "left": null,
            "margin": null,
            "max_height": null,
            "max_width": null,
            "min_height": null,
            "min_width": null,
            "object_fit": null,
            "object_position": null,
            "order": null,
            "overflow": null,
            "overflow_x": null,
            "overflow_y": null,
            "padding": null,
            "right": null,
            "top": null,
            "visibility": null,
            "width": null
          }
        },
        "e790514b2fd34932964677c0e359ee93": {
          "model_module": "@jupyter-widgets/controls",
          "model_name": "DescriptionStyleModel",
          "model_module_version": "1.5.0",
          "state": {
            "_model_module": "@jupyter-widgets/controls",
            "_model_module_version": "1.5.0",
            "_model_name": "DescriptionStyleModel",
            "_view_count": null,
            "_view_module": "@jupyter-widgets/base",
            "_view_module_version": "1.2.0",
            "_view_name": "StyleView",
            "description_width": ""
          }
        }
      }
    }
  },
  "cells": [
    {
      "cell_type": "markdown",
      "metadata": {
        "id": "view-in-github",
        "colab_type": "text"
      },
      "source": [
        "<a href=\"https://colab.research.google.com/github/lior9005/deep-learning/blob/main/final_project.ipynb\" target=\"_parent\"><img src=\"https://colab.research.google.com/assets/colab-badge.svg\" alt=\"Open In Colab\"/></a>"
      ]
    },
    {
      "cell_type": "markdown",
      "source": [
        "# ADL final project\n",
        "\n",
        "\n",
        "---\n",
        "\n",
        "\n",
        "**Authors:**\n",
        "> Lior Sharony 316380138\n",
        "\n",
        "\n",
        "> Noam Zigler 314868019\n",
        "\n",
        "\n",
        "> Eden Miran 208742429\n"
      ],
      "metadata": {
        "id": "HlHgPOjlULwb"
      }
    },
    {
      "cell_type": "code",
      "execution_count": null,
      "metadata": {
        "id": "6Z1nbKeST4aX",
        "colab": {
          "base_uri": "https://localhost:8080/"
        },
        "outputId": "1a863c4b-a854-4be7-ae43-07e1c54003a3"
      },
      "outputs": [
        {
          "output_type": "stream",
          "name": "stdout",
          "text": [
            "cuda\n"
          ]
        }
      ],
      "source": [
        "# Imports\n",
        "import torch\n",
        "import numpy as np\n",
        "import matplotlib.pyplot as plt\n",
        "import torch.nn as nn\n",
        "from torch import nn, optim\n",
        "import torch.nn.functional as F\n",
        "import torchvision\n",
        "import torchvision.transforms as transforms\n",
        "from torch.utils.data import DataLoader, Subset, random_split, Subset, Dataset, SubsetRandomSampler\n",
        "from tqdm.auto import tqdm\n",
        "from sklearn.metrics import confusion_matrix\n",
        "import seaborn as sns\n",
        "\n",
        "\n",
        "\n",
        "# Eval mode\n",
        "eval_mode = False\n",
        "ood_as_fashion = True #define the ood\n",
        "device = torch.device(\"cuda\" if torch.cuda.is_available() else \"cpu\")\n",
        "print(device)"
      ]
    },
    {
      "cell_type": "markdown",
      "source": [
        "# Data & Preprocessing"
      ],
      "metadata": {
        "id": "x64L0Fk9XASM"
      }
    },
    {
      "cell_type": "code",
      "source": [
        "# OSR Dataset template\n",
        "class CombinedDataset(Dataset):\n",
        "    def __init__(self, mnist, ood, transform_mnist=None, transform_ood=None):\n",
        "        self.mnist = mnist\n",
        "        self.ood = ood\n",
        "        # transforms could be defined either here or when you init each dataset.\n",
        "        self.transform_mnist = transform_mnist\n",
        "        self.transform_ood = transform_ood\n",
        "\n",
        "    def __len__(self):\n",
        "        # combined length of MNIST and OOD\n",
        "        return len(self.mnist) + len(self.ood)\n",
        "\n",
        "    def __getitem__(self, idx):\n",
        "        if idx < len(self.mnist):\n",
        "            # if index is within the range of MNIST, return MNIST data and label\n",
        "            data, label = self.mnist[idx]\n",
        "            if self.transform_mnist:\n",
        "                data = self.transform_mnist(data)\n",
        "            return data, label\n",
        "        else:\n",
        "            # if index is beyond the range of MNIST, return OOD data and 10 as label\n",
        "            data, _ = self.ood[idx - len(self.mnist)]  # adjust index for OOD\n",
        "            if self.transform_ood:\n",
        "                data = self.transform_ood(data)\n",
        "            return data, 10  # OOD label is always 10\n",
        "\n",
        "\n",
        "\n",
        "def eval_model(model, data_loader, device):\n",
        "    \"\"\" Evaluation function for the OSR task.\n",
        "    Given your OSR predictions, comptues the accuracy on MNIST, OOD set and both.\n",
        "    Note - this function does NOT computes the MNIST baseline accruacy.\n",
        "    Returns:\n",
        "     - acc_mnist\n",
        "     - acc_ood\n",
        "     - acc_total\n",
        "    \"\"\"\n",
        "\n",
        "    # Ensure model is in evaluation mode\n",
        "    model.eval()\n",
        "\n",
        "    correct_mnist = 0\n",
        "    total_mnist = 0\n",
        "    correct_ood = 0\n",
        "    total_ood = 0\n",
        "\n",
        "    # No need to track gradients for evaluation, saves memory and computations\n",
        "    with torch.no_grad():\n",
        "        for data, labels in data_loader:\n",
        "            data, labels = data.to(device), labels.to(device)\n",
        "\n",
        "            ### Modify output if needed ###\n",
        "            data = data.view(-1, 28*28)\n",
        "            # Model outputs\n",
        "            outputs = model(data)\n",
        "\n",
        "\n",
        "            # y pred should be a vector of size (N_batch,) -> [5, 2, ..., 10]\n",
        "            # and not one-hot. You can handle this either in your model or here.\n",
        "\n",
        "            # Assuming the model returns an (N_batch, 11) size output\n",
        "            probas, y_pred = torch.max(outputs, 1)\n",
        "\n",
        "            # Split MNIST and OOD predictions and labels\n",
        "            # Assuming numerical labels, which is MNIST/CIFAR datasets default\n",
        "            # Note: Not one-hot!\n",
        "            mask_mnist = labels < 10\n",
        "            mask_ood = ~mask_mnist\n",
        "            labels_mnist = labels[mask_mnist]\n",
        "            labels_ood = labels[mask_ood]\n",
        "\n",
        "            pred_mnist = y_pred[mask_mnist]\n",
        "            pred_ood = y_pred[mask_ood]\n",
        "\n",
        "            total_mnist += labels_mnist.size(0)\n",
        "            total_ood += labels_ood.size(0)\n",
        "            correct_mnist += (pred_mnist == labels_mnist).sum().item()\n",
        "            correct_ood += (pred_ood == labels_ood).sum().item()\n",
        "\n",
        "    acc_mnist = correct_mnist / total_mnist\n",
        "    acc_ood = correct_ood / total_ood\n",
        "    acc_total = (correct_mnist + correct_ood) / (total_mnist + total_ood)\n",
        "\n",
        "    return acc_mnist, acc_ood, acc_total"
      ],
      "metadata": {
        "id": "1frlbyepYerE"
      },
      "execution_count": null,
      "outputs": []
    },
    {
      "cell_type": "code",
      "source": [
        "# Transformers\n",
        "mnist_transform = transforms.Compose([\n",
        "    transforms.ToTensor(),\n",
        "    transforms.Normalize((0.5,), (0.5,))\n",
        "])\n",
        "ood_transform = transforms.Compose([\n",
        "    transforms.ToTensor(),\n",
        "    transforms.Grayscale(num_output_channels=1),\n",
        "    transforms.Resize((28, 28)),\n",
        "    transforms.Normalize((0.5,), (0.5,))\n",
        "])\n",
        "\n",
        "# Mnist dataset\n",
        "mnist_train_set = torchvision.datasets.MNIST(root='./data', train=True, download=True, transform=mnist_transform)\n",
        "mnist_test_set = torchvision.datasets.MNIST(root='./data', train=False, download=True, transform=mnist_transform)\n",
        "\n",
        "# Train on a random subset of 10k examples\n",
        "N = 10000\n",
        "torch.manual_seed(0)\n",
        "np.random.seed(0)\n",
        "\n",
        "train_size = len(mnist_train_set)\n",
        "mnist_val_size = int(train_size * 0.2)\n",
        "mnist_train_size = train_size - mnist_val_size\n",
        "mnist_train_dataset, mnist_val_dataset = random_split(mnist_train_set, [mnist_train_size, mnist_val_size])\n",
        "\n",
        "train_idx = np.arange(len(mnist_train_dataset))\n",
        "train_subset_idx = np.random.choice(train_idx, N)\n",
        "train_subset_sampler = SubsetRandomSampler(train_subset_idx)\n",
        "\n",
        "mnist_train_loader = DataLoader(mnist_train_dataset, batch_size=512, sampler=train_subset_sampler)\n",
        "mnist_val_loader = DataLoader(mnist_val_dataset, batch_size=512, shuffle=False)\n",
        "mnist_test_loader = DataLoader(mnist_test_set, batch_size=1000, shuffle=False)\n",
        "\n",
        "# Ood\n",
        "if(ood_as_fashion):\n",
        "  ood = torchvision.datasets.FashionMNIST(root='./data', train=False, download=True, transform=ood_transform)\n",
        "else:\n",
        "  ood = torchvision.datasets.CIFAR10(root='./data', train=False, download=True, transform=ood_transform)\n",
        "\n",
        "# Generating the combined dataset\n",
        "ood_indices = np.random.choice(len(ood), 2000, replace=False)\n",
        "ood_subset = Subset(ood, ood_indices)\n",
        "combined_ds = CombinedDataset(mnist_test_set, ood_subset)\n",
        "\n",
        "combined_ds_loader = DataLoader(combined_ds, batch_size=1024, shuffle=True)"
      ],
      "metadata": {
        "id": "hBVUYatNUKQp"
      },
      "execution_count": null,
      "outputs": []
    },
    {
      "cell_type": "markdown",
      "source": [
        "# Models"
      ],
      "metadata": {
        "id": "jJh6x5CLXGVY"
      }
    },
    {
      "cell_type": "code",
      "source": [
        "# Baseline model class\n",
        "class Baseline_model(nn.Module):\n",
        "  def __init__(self):\n",
        "        super(Baseline_model, self).__init__()\n",
        "        self.encoder = nn.Sequential(\n",
        "            nn.Conv2d(in_channels=1, out_channels=64, kernel_size=3, stride=1, padding=1),\n",
        "            nn.ReLU(),\n",
        "            nn.MaxPool2d(kernel_size=2, stride=2),\n",
        "            nn.Conv2d(in_channels=64, out_channels=64, kernel_size=3, stride=1, padding=1)\n",
        "            nn.ReLU(),\n",
        "            nn.MaxPool2d(kernel_size=2, stride=2)\n",
        "          )\n",
        "\n",
        "        self.decoder = nn.Sequential(\n",
        "            nn.ConvTranspose2d(in_channels = 64, out_channels = 64, kernel_size=3, stride=1, padding=1, output_padding=1),\n",
        "            nn.ReLU(),\n",
        "            nn.ConvTranspose2d(in_channels = 64, out_channels = 1, kernel_size=3, stride=1, padding=1, output_padding=1),\n",
        "            nn.ReLU(),\n",
        "        )\n",
        "\n",
        "        self.clf = nn.Sequential(\n",
        "            nn.Linear(self._get_conv_output(), 10),\n",
        "            nn.LogSoftmax(dim=1)\n",
        "        )\n",
        "    def _get_conv_output(self, shape = (1,28,28)):\n",
        "      \"\"\"\n",
        "      Computes the size of the flattened features after the convolutional layers.\n",
        "\n",
        "      Parameters:\n",
        "      - shape: Tuple representing the shape of the input image (channels, height, width).\n",
        "\n",
        "      Returns:\n",
        "      - n_size: The size of the flattened features.\n",
        "      \"\"\"\n",
        "      with torch.no_grad():\n",
        "          batch_size = 1\n",
        "          input = torch.rand(batch_size, *shape)\n",
        "          output_feat = self._forward_features(input)\n",
        "          n_size = output_feat.view(batch_size, -1).shape[1]\n",
        "      return n_size\n",
        "\n",
        "  def forward(self,x):\n",
        "      encoded_vector = self.ecnoder(x)\n",
        "      encoded_vector_clf = encoded_vector.view(encoded_vector.size(0), -1)\n",
        "\n",
        "      recon = self.decoder(encoded_vector)\n",
        "      return\n",
        "\n",
        "\n",
        "# OSR model class\n",
        "\n"
      ],
      "metadata": {
        "id": "9k2F1LYhWPxF"
      },
      "execution_count": null,
      "outputs": []
    },
    {
      "cell_type": "markdown",
      "source": [
        "# Training"
      ],
      "metadata": {
        "id": "dtoW4thDXOU6"
      }
    },
    {
      "cell_type": "code",
      "source": [
        "if not (eval_mode):\n",
        "  baseline_num_epoch = 20\n",
        "\n",
        "  def evaluate_accuracy(model, data_loader, device):\n",
        "      correct = 0\n",
        "      total = 0\n",
        "      with torch.no_grad():  # Disable gradient calculation for evaluation\n",
        "          for data in data_loader:\n",
        "              inputs, labels = data\n",
        "              inputs = inputs.view(inputs.shape[0], -1).to(device)\n",
        "              labels = labels.to(device)\n",
        "              outputs = model(inputs)\n",
        "              _, predicted = torch.max(outputs.data, 1)  # Get predicted labels\n",
        "\n",
        "              total += labels.size(0)\n",
        "              correct += (predicted == labels).sum().item()\n",
        "\n",
        "      accuracy = 100 * correct / total\n",
        "      return accuracy\n",
        "\n",
        "  # Training procedure - baseline model\n",
        "  def train_baseline_model(trainloader, num_epochs):\n",
        "    model = Baseline_model()\n",
        "    optimizer = optim.SGD(model.parameters(), lr=0.02, momentum=0.9) #how it should be the best\n",
        "    model.to(device)\n",
        "    train_acc_list = []\n",
        "    val_acc_list = []\n",
        "    train_loss_list = []\n",
        "    val_loss_list = [] #??????\n",
        "    criterion = nn.NLLLoss()\n",
        "    for epoch in tqdm(range(num_epochs), desc=\"Training MNIST MLP\"):\n",
        "      running_loss = 0.0\n",
        "      for i, data in enumerate(trainloader, 0):\n",
        "          inputs, labels = data\n",
        "          inputs = inputs.view(inputs.shape[0], -1)\n",
        "          inputs, labels = inputs.to(device), labels.to(device)\n",
        "\n",
        "          optimizer.zero_grad()\n",
        "\n",
        "          outputs = model.forward(inputs)\n",
        "          loss = criterion(outputs, labels)\n",
        "          loss.backward()\n",
        "          optimizer.step()\n",
        "\n",
        "          # print statistics\n",
        "          running_loss += loss.item()\n",
        "      train_loss_list.append(running_loss)\n",
        "      train_acc = evaluate_accuracy(model, trainloader, device)\n",
        "      train_acc_list.append(train_acc)\n",
        "      val_acc = evaluate_accuracy(model, mnist_val_loader, device)\n",
        "      val_acc_list.append(val_acc)\n",
        "    return model, train_loss_list,train_acc_list, val_acc_list\n",
        "\n",
        "  # Training procedure - osr model\n",
        "\n",
        "\n",
        "\n",
        "  # Training and validation loss and accuracy for MNIST plot - baseline model\n",
        "  criterion = nn.NLLLoss()\n",
        "  baseline_model, train_loss_list, train_acc_list, val_acc_list = train_baseline_model(mnist_train_loader, baseline_num_epoch)\n",
        "\n",
        "  plt.plot(train_acc_list, label='Training Accuracy')\n",
        "  plt.plot(val_acc_list, label='Validation Accuracy')\n",
        "  plt.xlabel('Epoch')\n",
        "  plt.ylabel('Accuracy (%)')\n",
        "  plt.title('Training and Validation Accuracy')\n",
        "  plt.legend()\n",
        "  plt.grid(True)\n",
        "  final_train_acc = train_acc_list[-1]\n",
        "  final_val_acc = val_acc_list[-1]\n",
        "  offset = 0.5\n",
        "  plt.text(len(train_acc_list) - 1, final_train_acc, f'{final_train_acc:.2f}%', ha='right', va='bottom')\n",
        "  plt.text(len(val_acc_list) - 1, final_val_acc - offset, f'{final_val_acc:.2f}%', ha='right', va='bottom', bbox=dict(facecolor='white', alpha=0.5, edgecolor='none', pad=0))\n",
        "  plt.show()\n",
        "\n",
        "  plt.plot(train_loss_list, label='Training Loss')\n",
        "  plt.xlabel('Epoch')\n",
        "  plt.ylabel('Loss')\n",
        "  plt.title('Training Loss')\n",
        "  plt.legend()\n",
        "  plt.grid(True)\n",
        "  final_train_loss = train_loss_list[-1]\n",
        "  plt.text(len(train_loss_list) - 1, final_train_loss, f'{final_train_loss:.2f}', ha='right', va='bottom')\n",
        "  plt.show()\n",
        "\n",
        "  # Training and validation loss and accuracy for MNIST plot - osr model\n",
        "\n",
        "\n",
        "\n",
        "\n",
        "\n",
        "  torch.save(baseline_model.state_dict(), './baseline model.pth')\n"
      ],
      "metadata": {
        "id": "-VFZ1OstXQ04",
        "outputId": "18baf5b6-b5df-4760-b7af-db58e073b70a",
        "colab": {
          "base_uri": "https://localhost:8080/",
          "height": 959,
          "referenced_widgets": [
            "b5a92bbee4e644049a144646b546ae34",
            "da0da239e8674d9d8b9c5ff3013e37f1",
            "2b1ecf5ac2524c2f8890c410ad975887",
            "44fd44354ab14991b68c902bc663a3cc",
            "c0510976e51c42b1a83d0d83f419ea33",
            "4bdc38185817463ba8b832a5068d1497",
            "177017be04c14b9abd62fa3e1bad92fd",
            "4cef60de1f6e43988ced45224bbc461b",
            "312d439efe814326ae417bab7112b3e5",
            "f2f56da02dcc458ab116c691f53c7a69",
            "e790514b2fd34932964677c0e359ee93"
          ]
        }
      },
      "execution_count": null,
      "outputs": [
        {
          "output_type": "display_data",
          "data": {
            "text/plain": [
              "Training MNIST MLP:   0%|          | 0/20 [00:00<?, ?it/s]"
            ],
            "application/vnd.jupyter.widget-view+json": {
              "version_major": 2,
              "version_minor": 0,
              "model_id": "b5a92bbee4e644049a144646b546ae34"
            }
          },
          "metadata": {}
        },
        {
          "output_type": "display_data",
          "data": {
            "text/plain": [
              "<Figure size 640x480 with 1 Axes>"
            ],
            "image/png": "[encoded data removed]"
          },
          "metadata": {}
        },
        {
          "output_type": "display_data",
          "data": {
            "text/plain": [
              "<Figure size 640x480 with 1 Axes>"
            ],
            "image/png": "[encoded data removed]"
          },
          "metadata": {}
        }
      ]
    },
    {
      "cell_type": "markdown",
      "source": [
        "# Evaluation - CIFAR10/Fashion-MNIST"
      ],
      "metadata": {
        "id": "MP2IFBDFXm_8"
      }
    },
    {
      "cell_type": "code",
      "source": [
        "def compute_accuracy(model, testloader):\n",
        "    correct = 0\n",
        "    total = 0\n",
        "    all_predicted = []\n",
        "    all_labels = []\n",
        "    with torch.no_grad():\n",
        "        for images, labels in testloader:\n",
        "            # reshape to vector form for the MLP\n",
        "            images = images.view(images.shape[0], -1).to(device) #\n",
        "            labels = labels.to(device)\n",
        "            outputs = model(images)\n",
        "            _, predicted = torch.max(outputs.data, 1)\n",
        "            total += labels.size(0)\n",
        "            correct += (predicted == labels).sum().item()\n",
        "\n",
        "            # Accumulate predictions and labels for confusion matrix\n",
        "            all_predicted.extend(predicted.cpu().numpy())\n",
        "            all_labels.extend(labels.cpu().numpy())\n",
        "\n",
        "    accuracy = 100 * correct / total\n",
        "\n",
        "    # Calculate confusion matrix\n",
        "    cm = confusion_matrix(all_labels, all_predicted)\n",
        "\n",
        "    return accuracy, cm\n",
        "\n",
        "if (eval_mode):\n",
        "    # Load the trained models weights\n",
        "    baseline_model = Baseline_model()\n",
        "    baseline_model.load_state_dict(torch.load('./baseline_model.pth'))\n",
        "    baseline_model.to(device)\n",
        "    baseline_model.eval()\n",
        "\n",
        "\n",
        "# Baseline results\n",
        "accuracy, cm = compute_accuracy(baseline_model, mnist_test_loader)\n",
        "plt.figure(figsize=(10, 7))\n",
        "sns.heatmap(cm, annot=True, fmt=\"d\", cmap=\"Blues\",\n",
        "            xticklabels=range(10), yticklabels=range(10))\n",
        "plt.title(f\"Confusion Matrix, accuracy: {accuracy:.2f}%\")\n",
        "plt.ylabel(\"Actual Label\")\n",
        "plt.xlabel(\"Predicted Label\")\n",
        "plt.show()"
      ],
      "metadata": {
        "id": "srzL6sAKXqNa",
        "colab": {
          "base_uri": "https://localhost:8080/",
          "height": 641
        },
        "outputId": "bf8c79c6-222d-4ccc-8081-ad396a498051"
      },
      "execution_count": null,
      "outputs": [
        {
          "output_type": "display_data",
          "data": {
            "text/plain": [
              "<Figure size 1000x700 with 2 Axes>"
            ],
            "image/png": "[encoded data removed]"
          },
          "metadata": {}
        }
      ]
    },
    {
      "cell_type": "markdown",
      "source": [
        "**OSR approach:**\n",
        "\n",
        "---\n",
        "\n"
      ],
      "metadata": {
        "id": "u-XqV0ZOYDeU"
      }
    },
    {
      "cell_type": "code",
      "source": [
        "# OOD results\n",
        "\n",
        "\n",
        "# OSR results\n",
        "\n",
        "\n",
        "# t-SNE and/or PCA visualization (optional)\n",
        "\n",
        "\n",
        "# Additional figures (optional)"
      ],
      "metadata": {
        "id": "sMyAzd-4YP-6"
      },
      "execution_count": null,
      "outputs": []
    },
    {
      "cell_type": "markdown",
      "source": [
        "# Evaluation - Unknown Dataset"
      ],
      "metadata": {
        "id": "1xE41sHlYwtQ"
      }
    },
    {
      "cell_type": "code",
      "source": [
        "# placeholder for the combined OSR dataset and dataloader\n",
        "\n",
        "\n",
        "# Load the trained models weights\n",
        "\n",
        "\n",
        "# OOD results\n",
        "\n",
        "\n",
        "# OSR results"
      ],
      "metadata": {
        "id": "OhNEvqK2Y1ie"
      },
      "execution_count": null,
      "outputs": []
    }
  ]
}