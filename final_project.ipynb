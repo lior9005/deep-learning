{
  "nbformat": 4,
  "nbformat_minor": 0,
  "metadata": {
    "colab": {
      "provenance": [],
      "gpuType": "T4",
      "include_colab_link": true
    },
    "kernelspec": {
      "name": "python3",
      "display_name": "Python 3"
    },
    "language_info": {
      "name": "python"
    },
    "accelerator": "GPU",
    "widgets": {
      "application/vnd.jupyter.widget-state+json": {
        "07eba05fa42143faa1ead5168a99875f": {
          "model_module": "@jupyter-widgets/controls",
          "model_name": "HBoxModel",
          "model_module_version": "1.5.0",
          "state": {
            "_dom_classes": [],
            "_model_module": "@jupyter-widgets/controls",
            "_model_module_version": "1.5.0",
            "_model_name": "HBoxModel",
            "_view_count": null,
            "_view_module": "@jupyter-widgets/controls",
            "_view_module_version": "1.5.0",
            "_view_name": "HBoxView",
            "box_style": "",
            "children": [
              "IPY_MODEL_2f6a16509e41420bb0e6e57765dc58cb",
              "IPY_MODEL_d8dbe656b7284a5cae1c3a3ae95627c2",
              "IPY_MODEL_2bfdf10474fc41ba9a789c996e5998b8"
            ],
            "layout": "IPY_MODEL_a332f4223f904dd189f3877be0fa68d2"
          }
        },
        "2f6a16509e41420bb0e6e57765dc58cb": {
          "model_module": "@jupyter-widgets/controls",
          "model_name": "HTMLModel",
          "model_module_version": "1.5.0",
          "state": {
            "_dom_classes": [],
            "_model_module": "@jupyter-widgets/controls",
            "_model_module_version": "1.5.0",
            "_model_name": "HTMLModel",
            "_view_count": null,
            "_view_module": "@jupyter-widgets/controls",
            "_view_module_version": "1.5.0",
            "_view_name": "HTMLView",
            "description": "",
            "description_tooltip": null,
            "layout": "IPY_MODEL_b52f1b8ad8074d1c93769993fb6dcd5e",
            "placeholder": "​",
            "style": "IPY_MODEL_43e4d28067ae411ebf43c7a9b54420b6",
            "value": "Training Baseline model:  25%"
          }
        },
        "d8dbe656b7284a5cae1c3a3ae95627c2": {
          "model_module": "@jupyter-widgets/controls",
          "model_name": "FloatProgressModel",
          "model_module_version": "1.5.0",
          "state": {
            "_dom_classes": [],
            "_model_module": "@jupyter-widgets/controls",
            "_model_module_version": "1.5.0",
            "_model_name": "FloatProgressModel",
            "_view_count": null,
            "_view_module": "@jupyter-widgets/controls",
            "_view_module_version": "1.5.0",
            "_view_name": "ProgressView",
            "bar_style": "",
            "description": "",
            "description_tooltip": null,
            "layout": "IPY_MODEL_5a885aa4e5ce491ea9e4d7b1c26bd3fc",
            "max": 20,
            "min": 0,
            "orientation": "horizontal",
            "style": "IPY_MODEL_da1ba79ff2bb4e76b58c3ffde8b30d82",
            "value": 5
          }
        },
        "2bfdf10474fc41ba9a789c996e5998b8": {
          "model_module": "@jupyter-widgets/controls",
          "model_name": "HTMLModel",
          "model_module_version": "1.5.0",
          "state": {
            "_dom_classes": [],
            "_model_module": "@jupyter-widgets/controls",
            "_model_module_version": "1.5.0",
            "_model_name": "HTMLModel",
            "_view_count": null,
            "_view_module": "@jupyter-widgets/controls",
            "_view_module_version": "1.5.0",
            "_view_name": "HTMLView",
            "description": "",
            "description_tooltip": null,
            "layout": "IPY_MODEL_c04e62b8e7c04687962a7dcd69e9246d",
            "placeholder": "​",
            "style": "IPY_MODEL_e3f1ce293d6c4a80a6758ab610801d7f",
            "value": " 5/20 [00:40&lt;02:00,  8.04s/it]"
          }
        },
        "a332f4223f904dd189f3877be0fa68d2": {
          "model_module": "@jupyter-widgets/base",
          "model_name": "LayoutModel",
          "model_module_version": "1.2.0",
          "state": {
            "_model_module": "@jupyter-widgets/base",
            "_model_module_version": "1.2.0",
            "_model_name": "LayoutModel",
            "_view_count": null,
            "_view_module": "@jupyter-widgets/base",
            "_view_module_version": "1.2.0",
            "_view_name": "LayoutView",
            "align_content": null,
            "align_items": null,
            "align_self": null,
            "border": null,
            "bottom": null,
            "display": null,
            "flex": null,
            "flex_flow": null,
            "grid_area": null,
            "grid_auto_columns": null,
            "grid_auto_flow": null,
            "grid_auto_rows": null,
            "grid_column": null,
            "grid_gap": null,
            "grid_row": null,
            "grid_template_areas": null,
            "grid_template_columns": null,
            "grid_template_rows": null,
            "height": null,
            "justify_content": null,
            "justify_items": null,
            "left": null,
            "margin": null,
            "max_height": null,
            "max_width": null,
            "min_height": null,
            "min_width": null,
            "object_fit": null,
            "object_position": null,
            "order": null,
            "overflow": null,
            "overflow_x": null,
            "overflow_y": null,
            "padding": null,
            "right": null,
            "top": null,
            "visibility": null,
            "width": null
          }
        },
        "b52f1b8ad8074d1c93769993fb6dcd5e": {
          "model_module": "@jupyter-widgets/base",
          "model_name": "LayoutModel",
          "model_module_version": "1.2.0",
          "state": {
            "_model_module": "@jupyter-widgets/base",
            "_model_module_version": "1.2.0",
            "_model_name": "LayoutModel",
            "_view_count": null,
            "_view_module": "@jupyter-widgets/base",
            "_view_module_version": "1.2.0",
            "_view_name": "LayoutView",
            "align_content": null,
            "align_items": null,
            "align_self": null,
            "border": null,
            "bottom": null,
            "display": null,
            "flex": null,
            "flex_flow": null,
            "grid_area": null,
            "grid_auto_columns": null,
            "grid_auto_flow": null,
            "grid_auto_rows": null,
            "grid_column": null,
            "grid_gap": null,
            "grid_row": null,
            "grid_template_areas": null,
            "grid_template_columns": null,
            "grid_template_rows": null,
            "height": null,
            "justify_content": null,
            "justify_items": null,
            "left": null,
            "margin": null,
            "max_height": null,
            "max_width": null,
            "min_height": null,
            "min_width": null,
            "object_fit": null,
            "object_position": null,
            "order": null,
            "overflow": null,
            "overflow_x": null,
            "overflow_y": null,
            "padding": null,
            "right": null,
            "top": null,
            "visibility": null,
            "width": null
          }
        },
        "43e4d28067ae411ebf43c7a9b54420b6": {
          "model_module": "@jupyter-widgets/controls",
          "model_name": "DescriptionStyleModel",
          "model_module_version": "1.5.0",
          "state": {
            "_model_module": "@jupyter-widgets/controls",
            "_model_module_version": "1.5.0",
            "_model_name": "DescriptionStyleModel",
            "_view_count": null,
            "_view_module": "@jupyter-widgets/base",
            "_view_module_version": "1.2.0",
            "_view_name": "StyleView",
            "description_width": ""
          }
        },
        "5a885aa4e5ce491ea9e4d7b1c26bd3fc": {
          "model_module": "@jupyter-widgets/base",
          "model_name": "LayoutModel",
          "model_module_version": "1.2.0",
          "state": {
            "_model_module": "@jupyter-widgets/base",
            "_model_module_version": "1.2.0",
            "_model_name": "LayoutModel",
            "_view_count": null,
            "_view_module": "@jupyter-widgets/base",
            "_view_module_version": "1.2.0",
            "_view_name": "LayoutView",
            "align_content": null,
            "align_items": null,
            "align_self": null,
            "border": null,
            "bottom": null,
            "display": null,
            "flex": null,
            "flex_flow": null,
            "grid_area": null,
            "grid_auto_columns": null,
            "grid_auto_flow": null,
            "grid_auto_rows": null,
            "grid_column": null,
            "grid_gap": null,
            "grid_row": null,
            "grid_template_areas": null,
            "grid_template_columns": null,
            "grid_template_rows": null,
            "height": null,
            "justify_content": null,
            "justify_items": null,
            "left": null,
            "margin": null,
            "max_height": null,
            "max_width": null,
            "min_height": null,
            "min_width": null,
            "object_fit": null,
            "object_position": null,
            "order": null,
            "overflow": null,
            "overflow_x": null,
            "overflow_y": null,
            "padding": null,
            "right": null,
            "top": null,
            "visibility": null,
            "width": null
          }
        },
        "da1ba79ff2bb4e76b58c3ffde8b30d82": {
          "model_module": "@jupyter-widgets/controls",
          "model_name": "ProgressStyleModel",
          "model_module_version": "1.5.0",
          "state": {
            "_model_module": "@jupyter-widgets/controls",
            "_model_module_version": "1.5.0",
            "_model_name": "ProgressStyleModel",
            "_view_count": null,
            "_view_module": "@jupyter-widgets/base",
            "_view_module_version": "1.2.0",
            "_view_name": "StyleView",
            "bar_color": null,
            "description_width": ""
          }
        },
        "c04e62b8e7c04687962a7dcd69e9246d": {
          "model_module": "@jupyter-widgets/base",
          "model_name": "LayoutModel",
          "model_module_version": "1.2.0",
          "state": {
            "_model_module": "@jupyter-widgets/base",
            "_model_module_version": "1.2.0",
            "_model_name": "LayoutModel",
            "_view_count": null,
            "_view_module": "@jupyter-widgets/base",
            "_view_module_version": "1.2.0",
            "_view_name": "LayoutView",
            "align_content": null,
            "align_items": null,
            "align_self": null,
            "border": null,
            "bottom": null,
            "display": null,
            "flex": null,
            "flex_flow": null,
            "grid_area": null,
            "grid_auto_columns": null,
            "grid_auto_flow": null,
            "grid_auto_rows": null,
            "grid_column": null,
            "grid_gap": null,
            "grid_row": null,
            "grid_template_areas": null,
            "grid_template_columns": null,
            "grid_template_rows": null,
            "height": null,
            "justify_content": null,
            "justify_items": null,
            "left": null,
            "margin": null,
            "max_height": null,
            "max_width": null,
            "min_height": null,
            "min_width": null,
            "object_fit": null,
            "object_position": null,
            "order": null,
            "overflow": null,
            "overflow_x": null,
            "overflow_y": null,
            "padding": null,
            "right": null,
            "top": null,
            "visibility": null,
            "width": null
          }
        },
        "e3f1ce293d6c4a80a6758ab610801d7f": {
          "model_module": "@jupyter-widgets/controls",
          "model_name": "DescriptionStyleModel",
          "model_module_version": "1.5.0",
          "state": {
            "_model_module": "@jupyter-widgets/controls",
            "_model_module_version": "1.5.0",
            "_model_name": "DescriptionStyleModel",
            "_view_count": null,
            "_view_module": "@jupyter-widgets/base",
            "_view_module_version": "1.2.0",
            "_view_name": "StyleView",
            "description_width": ""
          }
        }
      }
    }
  },
  "cells": [
    {
      "cell_type": "markdown",
      "metadata": {
        "id": "view-in-github",
        "colab_type": "text"
      },
      "source": [
        "<a href=\"https://colab.research.google.com/github/lior9005/deep-learning/blob/main/final_project.ipynb\" target=\"_parent\"><img src=\"https://colab.research.google.com/assets/colab-badge.svg\" alt=\"Open In Colab\"/></a>"
      ]
    },
    {
      "cell_type": "markdown",
      "source": [
        "# ADL final project\n",
        "\n",
        "\n",
        "---\n",
        "\n",
        "\n",
        "**Authors:**\n",
        "> Lior Sharony 316380138\n",
        "\n",
        "\n",
        "> Noam Zigler 208742429\n",
        "\n",
        "\n",
        "> Eden Miran 314868019\n"
      ],
      "metadata": {
        "id": "HlHgPOjlULwb"
      }
    },
    {
      "cell_type": "markdown",
      "source": [
        "## Imports ##"
      ],
      "metadata": {
        "id": "L2Cp8FS5Fs0L"
      }
    },
    {
      "cell_type": "code",
      "execution_count": 15,
      "metadata": {
        "id": "6Z1nbKeST4aX"
      },
      "outputs": [],
      "source": [
        "# Visualization and data analysis\n",
        "import matplotlib.pyplot as plt\n",
        "import seaborn as sns\n",
        "from matplotlib.colors import ListedColormap\n",
        "\n",
        "# PyTorch core and neural networks\n",
        "import torch\n",
        "import torch.nn as nn\n",
        "import torch.nn.functional as F\n",
        "import torchvision\n",
        "import torchvision.transforms as transforms\n",
        "import torchsummary\n",
        "from torch import optim\n",
        "\n",
        "# Data loading and handling\n",
        "from torch.utils.data import DataLoader, Dataset, random_split, Subset, SubsetRandomSampler\n",
        "\n",
        "# Machine learning tools (clustering, metrics, dimensionality reduction)\n",
        "\n",
        "#from sklearn.cluster import KMeans\n",
        "from sklearn.manifold import TSNE\n",
        "from sklearn.metrics import confusion_matrix, accuracy_score\n",
        "\n",
        "# Utilities\n",
        "from tqdm.auto import tqdm\n",
        "import numpy as np"
      ]
    },
    {
      "cell_type": "markdown",
      "source": [
        "## Project initialization ##"
      ],
      "metadata": {
        "id": "6oJnqWCTFn3N"
      }
    },
    {
      "cell_type": "code",
      "source": [
        "# Eval mode\n",
        "eval_mode = False\n",
        "ood_as_fashion = False #define the ood\n",
        "device = torch.device(\"cuda\" if torch.cuda.is_available() else \"cpu\")\n",
        "print(f\"Using {device}\")\n"
      ],
      "metadata": {
        "id": "JEQMLIdBFl6t",
        "outputId": "964edd4e-a3fe-48a8-a614-7344b6504269",
        "colab": {
          "base_uri": "https://localhost:8080/"
        }
      },
      "execution_count": 16,
      "outputs": [
        {
          "output_type": "stream",
          "name": "stdout",
          "text": [
            "Using cuda\n"
          ]
        }
      ]
    },
    {
      "cell_type": "markdown",
      "source": [
        "# 5.2. Data & Preprocessing"
      ],
      "metadata": {
        "id": "x64L0Fk9XASM"
      }
    },
    {
      "cell_type": "code",
      "source": [
        "# OSR Dataset template\n",
        "class CombinedDataset(Dataset):\n",
        "    def __init__(self, mnist, ood, transform_mnist=None, transform_ood=None):\n",
        "        self.mnist = mnist\n",
        "        self.ood = ood\n",
        "        # transforms could be defined either here or when you init each dataset.\n",
        "        self.transform_mnist = transform_mnist\n",
        "        self.transform_ood = transform_ood\n",
        "\n",
        "    def __len__(self):\n",
        "        # combined length of MNIST and OOD\n",
        "        return len(self.mnist) + len(self.ood)\n",
        "\n",
        "    def __getitem__(self, idx):\n",
        "        if idx < len(self.mnist):\n",
        "            # if index is within the range of MNIST, return MNIST data and label\n",
        "            data, label = self.mnist[idx]\n",
        "            if self.transform_mnist:\n",
        "                data = self.transform_mnist(data)\n",
        "            return data, label\n",
        "        else:\n",
        "            # if index is beyond the range of MNIST, return OOD data and 10 as label\n",
        "            data, _ = self.ood[idx - len(self.mnist)]  # adjust index for OOD\n",
        "            if self.transform_ood:\n",
        "                data = self.transform_ood(data)\n",
        "            return data, 10  # OOD label is always 10\n"
      ],
      "metadata": {
        "id": "1frlbyepYerE"
      },
      "execution_count": 17,
      "outputs": []
    },
    {
      "cell_type": "code",
      "source": [
        "# Transformers\n",
        "mnist_transform = transforms.Compose([\n",
        "    transforms.ToTensor(),\n",
        "    transforms.Normalize((0.5,), (0.5,))\n",
        "])\n",
        "\n",
        "ood_transform = transforms.Compose([\n",
        "    transforms.ToTensor(),\n",
        "    transforms.Grayscale(num_output_channels=1),\n",
        "    transforms.Resize((28, 28)),\n",
        "    transforms.Normalize((0.5,), (0.5,))\n",
        "])\n",
        "\n",
        "num_of_train_samples = 20000\n",
        "num_of_test_samples = 2000\n",
        "\n",
        "# Mnist dataset\n",
        "mnist_train_set = torchvision.datasets.MNIST(root='./data', train=True, download=True, transform=mnist_transform)\n",
        "mnist_test_set = torchvision.datasets.MNIST(root='./data', train=False, download=True, transform=mnist_transform)\n",
        "\n",
        "torch.manual_seed(0)\n",
        "np.random.seed(0)\n",
        "\n",
        "# splitting to validation and training\n",
        "train_size = len(mnist_train_set)\n",
        "mnist_val_size = int(train_size * 0.2)\n",
        "mnist_train_size = train_size - mnist_val_size\n",
        "mnist_train_dataset, mnist_val_dataset = random_split(mnist_train_set, [mnist_train_size, mnist_val_size])\n",
        "\n",
        "train_idx = np.arange(len(mnist_train_dataset))\n",
        "train_subset_idx = np.random.choice(train_idx,num_of_train_samples)\n",
        "train_subset_sampler = SubsetRandomSampler(train_subset_idx)\n",
        "\n",
        "mnist_train_loader = DataLoader(mnist_train_dataset, batch_size=512, sampler=train_subset_sampler)\n",
        "mnist_val_loader = DataLoader(mnist_val_dataset, batch_size=512, shuffle=False)\n",
        "mnist_test_loader = DataLoader(mnist_test_set, batch_size=1000, shuffle=False)\n",
        "\n",
        "# OOD\n",
        "if(ood_as_fashion):\n",
        "  ood = torchvision.datasets.FashionMNIST(root='./data', train=False, download=True, transform=ood_transform)\n",
        "else:\n",
        "  ood = torchvision.datasets.CIFAR10(root='./data', train=False, download=True, transform=ood_transform)\n",
        "\n",
        "# Generating the combined dataset\n",
        "ood_indices = np.random.choice(len(ood), num_of_test_samples , replace=False)\n",
        "ood_subset = Subset(ood, ood_indices)\n",
        "mnist_test_subset_idx = np.random.choice(len(mnist_test_set), num_of_test_samples, replace=False)\n",
        "mnist_test_subset = Subset(mnist_test_set, mnist_test_subset_idx)\n",
        "\n",
        "combined_ds = CombinedDataset(mnist_test_subset, ood_subset)\n",
        "combined_ds_loader = DataLoader(combined_ds, batch_size=1024, shuffle=True)\n"
      ],
      "metadata": {
        "id": "hBVUYatNUKQp",
        "colab": {
          "base_uri": "https://localhost:8080/"
        },
        "outputId": "a5665418-e70e-43e1-8929-0fb1dc90749f"
      },
      "execution_count": 18,
      "outputs": [
        {
          "output_type": "stream",
          "name": "stdout",
          "text": [
            "Files already downloaded and verified\n"
          ]
        }
      ]
    },
    {
      "cell_type": "markdown",
      "source": [
        "#5.3. Models"
      ],
      "metadata": {
        "id": "jJh6x5CLXGVY"
      }
    },
    {
      "cell_type": "code",
      "source": [
        "# Baseline model class\n",
        "class Baseline_model(nn.Module):\n",
        "  def __init__(self):\n",
        "        super(Baseline_model, self).__init__()\n",
        "        self.encoder = nn.Sequential(\n",
        "            nn.Conv2d(in_channels=1, out_channels=64, kernel_size=3, stride=1, padding=1),\n",
        "            nn.ReLU(),\n",
        "            nn.MaxPool2d(kernel_size=2, stride=2),\n",
        "            nn.Conv2d(in_channels=64, out_channels=64, kernel_size=3, stride=1, padding=1),\n",
        "            nn.ReLU(),\n",
        "            nn.MaxPool2d(kernel_size=2, stride=2)\n",
        "          )\n",
        "\n",
        "        self.decoder = nn.Sequential(\n",
        "            nn.ConvTranspose2d(in_channels=64, out_channels=64, kernel_size=3, stride=2, padding=1, output_padding=1),\n",
        "            nn.ReLU(),\n",
        "            nn.ConvTranspose2d(in_channels=64, out_channels=1, kernel_size=3, stride=2, padding=1, output_padding=1),\n",
        "        )\n",
        "\n",
        "        self.clf = nn.Sequential(\n",
        "            nn.Linear(self._get_conv_output(), 10),\n",
        "            nn.LogSoftmax(dim=1)\n",
        "        )\n",
        "\n",
        "  def _get_conv_output(self, shape = (1,28,28)):\n",
        "    #Computes the size of the flattened features after the convolutional layers.\n",
        "      with torch.no_grad():\n",
        "          batch_size = 1\n",
        "          input = torch.rand(batch_size, *shape)\n",
        "          output_feat = self.encoder(input)\n",
        "          n_size = output_feat.view(batch_size, -1).shape[1]\n",
        "      return n_size\n",
        "\n",
        "  def forward(self,x):\n",
        "      encoded_vector = self.encoder(x)\n",
        "      encoded_vector_clf = encoded_vector.view(encoded_vector.size(0), -1)\n",
        "      pred = self.clf(encoded_vector_clf)\n",
        "      recon = self.decoder(encoded_vector)\n",
        "      return pred, recon\n",
        "\n",
        "class OSR_model(nn.Module):\n",
        "    def __init__(self, recon_threshold = float('inf'), n_classes=11):\n",
        "        super(OSR_model, self).__init__()\n",
        "\n",
        "        # Encoder (same as in Baseline model)\n",
        "        self.encoder = nn.Sequential(\n",
        "            nn.Conv2d(in_channels=1, out_channels=64, kernel_size=3, stride=1, padding=1),\n",
        "            nn.ReLU(),\n",
        "            nn.MaxPool2d(kernel_size=2, stride=2),\n",
        "            nn.Conv2d(in_channels=64, out_channels=64, kernel_size=3, stride=1, padding=1),\n",
        "            nn.ReLU(),\n",
        "            nn.MaxPool2d(kernel_size=2, stride=2)\n",
        "        )\n",
        "\n",
        "        # Decoder (same as in Baseline model)\n",
        "        self.decoder = nn.Sequential(\n",
        "            nn.ConvTranspose2d(in_channels=64, out_channels=64, kernel_size=3, stride=2, padding=1, output_padding=1),\n",
        "            nn.ReLU(),\n",
        "            nn.ConvTranspose2d(in_channels=64, out_channels=1, kernel_size=3, stride=2, padding=1, output_padding=1),\n",
        "        )\n",
        "\n",
        "        # Classifier (same as in Baseline model)\n",
        "        self.clf = nn.Sequential(\n",
        "            nn.Linear(self._get_conv_output(), n_classes),\n",
        "            nn.LogSoftmax(dim=1)\n",
        "        )\n",
        "\n",
        "        # Reconstruction threshold (to decide if the sample is unknown)\n",
        "        self.recon_threshold = recon_threshold\n",
        "        self.n_classes = n_classes\n",
        "\n",
        "\n",
        "    def _get_conv_output(self, shape=(1, 28, 28)):\n",
        "        \"\"\"Computes the size of the flattened features after the convolutional layers.\"\"\"\n",
        "        with torch.no_grad():\n",
        "            batch_size = 1\n",
        "            input = torch.rand(batch_size, *shape)\n",
        "            output_feat = self.encoder(input)\n",
        "            n_size = output_feat.view(batch_size, -1).shape[1]\n",
        "        return n_size\n",
        "\n",
        "    def forward(self, x):\n",
        "        encoded_vector = self.encoder(x)\n",
        "        encoded_vector_clf = encoded_vector.view(encoded_vector.size(0), -1)\n",
        "        pred = self.clf(encoded_vector_clf)\n",
        "        recon = self.decoder(encoded_vector)\n",
        "\n",
        "        # Calculate reconstruction error\n",
        "        recon_error = F.mse_loss(recon, x, reduction='none')\n",
        "        recon_error = recon_error.view(recon_error.size(0), -1).mean(dim=1)  # Sum across pixels\n",
        "        # Check if reconstruction error exceeds the threshold\n",
        "        is_unknown_recon = recon_error > self.recon_threshold\n",
        "        is_unknown = is_unknown_recon\n",
        "\n",
        "        if not self.training:\n",
        "            # Update predictions for unknown samples\n",
        "            unknown_class_index = self.clf[0].out_features - 1  # Assuming the unknown class is the last index\n",
        "            pred[is_unknown] = torch.full((pred.size(1),), -float('inf'), device=pred.device)  # Set log probabilities to -inf\n",
        "            pred[is_unknown, unknown_class_index] = 0  # Set log probability of the unknown class to 0 (highest)\n",
        "        return pred, recon, is_unknown, recon_error, encoded_vector_clf\n",
        "\n",
        "    def determine_threshold(self, digit_loader, percentile=95):\n",
        "        self.eval()\n",
        "        recon_errors = []\n",
        "        softmax_confidences = []\n",
        "\n",
        "        with torch.no_grad():\n",
        "            for images, _ in digit_loader:\n",
        "                images = images.to(next(self.parameters()).device)\n",
        "                pred, recon, is_unknown, recon_error, encoded_vector_clf = self(images)\n",
        "\n",
        "                # Calculate reconstruction error\n",
        "                error = F.mse_loss(recon, images, reduction='none')\n",
        "                error = error.view(error.size(0), -1).mean(dim=1)\n",
        "                recon_errors.extend(error.cpu().numpy())\n",
        "\n",
        "        recon_threshold = np.percentile(recon_errors, percentile)\n",
        "        self.recon_threshold = recon_threshold\n",
        "        return recon_threshold\n",
        "\n",
        "#models summary\n",
        "print(\"Baseline model summary:\")\n",
        "torchsummary.summary(Baseline_model().to(device), (1, 28, 28), device=device.type)\n",
        "print(\"OSR model summary:\")\n",
        "torchsummary.summary(OSR_model().to(device), (1, 28, 28), device=device.type)"
      ],
      "metadata": {
        "id": "9k2F1LYhWPxF",
        "outputId": "74ced4fe-2926-4a61-f52d-8f42d8d795b4",
        "colab": {
          "base_uri": "https://localhost:8080/"
        }
      },
      "execution_count": 19,
      "outputs": [
        {
          "output_type": "stream",
          "name": "stdout",
          "text": [
            "Baseline model summary:\n",
            "----------------------------------------------------------------\n",
            "        Layer (type)               Output Shape         Param #\n",
            "================================================================\n",
            "            Conv2d-1           [-1, 64, 28, 28]             640\n",
            "              ReLU-2           [-1, 64, 28, 28]               0\n",
            "         MaxPool2d-3           [-1, 64, 14, 14]               0\n",
            "            Conv2d-4           [-1, 64, 14, 14]          36,928\n",
            "              ReLU-5           [-1, 64, 14, 14]               0\n",
            "         MaxPool2d-6             [-1, 64, 7, 7]               0\n",
            "            Linear-7                   [-1, 10]          31,370\n",
            "        LogSoftmax-8                   [-1, 10]               0\n",
            "   ConvTranspose2d-9           [-1, 64, 14, 14]          36,928\n",
            "             ReLU-10           [-1, 64, 14, 14]               0\n",
            "  ConvTranspose2d-11            [-1, 1, 28, 28]             577\n",
            "================================================================\n",
            "Total params: 106,443\n",
            "Trainable params: 106,443\n",
            "Non-trainable params: 0\n",
            "----------------------------------------------------------------\n",
            "Input size (MB): 0.00\n",
            "Forward/backward pass size (MB): 1.27\n",
            "Params size (MB): 0.41\n",
            "Estimated Total Size (MB): 1.68\n",
            "----------------------------------------------------------------\n",
            "OSR model summary:\n",
            "----------------------------------------------------------------\n",
            "        Layer (type)               Output Shape         Param #\n",
            "================================================================\n",
            "            Conv2d-1           [-1, 64, 28, 28]             640\n",
            "              ReLU-2           [-1, 64, 28, 28]               0\n",
            "         MaxPool2d-3           [-1, 64, 14, 14]               0\n",
            "            Conv2d-4           [-1, 64, 14, 14]          36,928\n",
            "              ReLU-5           [-1, 64, 14, 14]               0\n",
            "         MaxPool2d-6             [-1, 64, 7, 7]               0\n",
            "            Linear-7                   [-1, 11]          34,507\n",
            "        LogSoftmax-8                   [-1, 11]               0\n",
            "   ConvTranspose2d-9           [-1, 64, 14, 14]          36,928\n",
            "             ReLU-10           [-1, 64, 14, 14]               0\n",
            "  ConvTranspose2d-11            [-1, 1, 28, 28]             577\n",
            "================================================================\n",
            "Total params: 109,580\n",
            "Trainable params: 109,580\n",
            "Non-trainable params: 0\n",
            "----------------------------------------------------------------\n",
            "Input size (MB): 0.00\n",
            "Forward/backward pass size (MB): 1.27\n",
            "Params size (MB): 0.42\n",
            "Estimated Total Size (MB): 1.70\n",
            "----------------------------------------------------------------\n"
          ]
        }
      ]
    },
    {
      "cell_type": "markdown",
      "source": [
        "#5.4. Training"
      ],
      "metadata": {
        "id": "dtoW4thDXOU6"
      }
    },
    {
      "cell_type": "code",
      "source": [
        "def plot_training_results(result_dict, model_name):\n",
        "    plt.plot(result_dict['train_acc'], label='Training Accuracy')\n",
        "    plt.plot(result_dict['val_acc'], label='Validation Accuracy')\n",
        "    plt.xlabel('Epoch')\n",
        "    plt.ylabel('Accuracy (%)')\n",
        "    plt.title(f\"{model_name} Training and Validation Accuracy\")\n",
        "    plt.legend()\n",
        "    plt.grid(True)\n",
        "    final_train_acc = result_dict['train_acc'][-1]\n",
        "    final_val_acc = result_dict['val_acc'][-1]\n",
        "    offset = 0.5\n",
        "    plt.text(len(result_dict['train_acc']) - 1, final_train_acc, f'{final_train_acc*100:.2f}%', ha='right', va='bottom')\n",
        "    plt.text(len(result_dict['val_acc']) - 1, final_val_acc, f'{final_val_acc*100:.2f}%', ha='right', va='bottom')\n",
        "    plt.show()\n",
        "\n",
        "    plt.plot(result_dict['train_clf_loss'], label='Training clf Loss')\n",
        "    plt.plot(result_dict['train_recon_loss'], label='Training recon Loss')\n",
        "    plt.xlabel('Epoch')\n",
        "    plt.ylabel('Loss')\n",
        "    plt.title(f\"{model_name} Training Loss\")\n",
        "    plt.legend()\n",
        "    plt.grid(True)\n",
        "    final_clf_train_loss =result_dict['train_clf_loss'][-1]\n",
        "    final_recon_train_loss = result_dict['train_recon_loss'][-1]\n",
        "    plt.text(len(result_dict['train_clf_loss']) - 1, final_clf_train_loss, f'{final_clf_train_loss:.2f}', ha='right', va='bottom')\n",
        "    plt.text(len(result_dict['train_recon_loss']) - 1, final_recon_train_loss, f'{final_recon_train_loss:.2f}', ha='right', va='bottom')\n",
        "    plt.show()"
      ],
      "metadata": {
        "id": "gtREOZeSP5ea"
      },
      "execution_count": 20,
      "outputs": []
    },
    {
      "cell_type": "markdown",
      "source": [
        "## Baseline training function ##"
      ],
      "metadata": {
        "id": "QLTlBkZmRsnB"
      }
    },
    {
      "cell_type": "code",
      "source": [
        "def train_baseline_model(model, train_loader, val_loader, clf_criterion, recon_criterion, optimizer, num_epochs):\n",
        "  results_dict = {\n",
        "      'train_clf_loss': [],\n",
        "      'val_clf_loss': [],\n",
        "      'train_recon_loss': [],\n",
        "      'val_recon_loss': [],\n",
        "      'val_acc': [],\n",
        "      'train_acc': []\n",
        "  }\n",
        "\n",
        "  for epoch in tqdm(range(num_epochs), desc=\"Training Baseline model\"):\n",
        "      for phase in ['train', 'val']:\n",
        "          if phase == 'train':\n",
        "              model.train()\n",
        "              dataloader = train_loader\n",
        "          else:\n",
        "              model.eval()\n",
        "              dataloader = val_loader\n",
        "\n",
        "          running_loss = 0.0\n",
        "          running_corrects = 0\n",
        "          total_samples = 0\n",
        "          running_recon_loss = 0.0\n",
        "\n",
        "          for inputs, labels in dataloader:\n",
        "              inputs = inputs.to(device)\n",
        "              labels = labels.to(device)\n",
        "              optimizer.zero_grad()\n",
        "\n",
        "              with torch.set_grad_enabled(phase == 'train'):\n",
        "                  outputs, recon = model(inputs)\n",
        "                  clf_loss = clf_criterion(outputs, labels)\n",
        "                  recon_loss = recon_criterion(recon, inputs)\n",
        "                  total_loss = clf_loss + recon_loss\n",
        "\n",
        "                  if phase == 'train':\n",
        "                      total_loss.backward()\n",
        "                      optimizer.step()\n",
        "\n",
        "              running_loss += total_loss.item() * inputs.size(0)\n",
        "              running_corrects += torch.sum(torch.argmax(outputs, 1) == labels.data)\n",
        "              running_recon_loss += recon_loss.item() * inputs.size(0)\n",
        "              total_samples += labels.size(0)\n",
        "\n",
        "          epoch_clf_loss = running_loss / total_samples\n",
        "          epoch_clf_acc = running_corrects.double() / total_samples\n",
        "          epoch_recon_loss = running_recon_loss / total_samples\n",
        "          results_dict[f'{phase}_clf_loss'].append(epoch_clf_loss)\n",
        "          results_dict[f'{phase}_acc'].append(epoch_clf_acc.item())\n",
        "          results_dict[f'{phase}_recon_loss'].append(epoch_recon_loss)\n",
        "  return results_dict"
      ],
      "metadata": {
        "id": "WEPMMyTwTt6P"
      },
      "execution_count": 21,
      "outputs": []
    },
    {
      "cell_type": "markdown",
      "source": [
        "## OSR training function ##"
      ],
      "metadata": {
        "id": "eVZkR1lbT1EL"
      }
    },
    {
      "cell_type": "code",
      "source": [
        "#def train_osr_model(model, train_loader, val_loader, clf_criterion, recon_criterion, optimizer, num_epochs, recon_threshold=0.1):\n",
        "def train_osr_model(model, train_loader, val_loader, clf_criterion, recon_criterion, optimizer, num_epochs):\n",
        "    results_dict = {\n",
        "        'train_clf_loss': [],\n",
        "        'val_clf_loss': [],\n",
        "        'train_recon_loss': [],\n",
        "        'val_recon_loss': [],\n",
        "        'train_acc': [],\n",
        "        'val_acc': [],\n",
        "        'train_unknown': [],\n",
        "        'val_unknown': []\n",
        "    }\n",
        "\n",
        "    for epoch in tqdm(range(num_epochs), desc=\"Training OSR Model\"):\n",
        "        for phase in ['train', 'val']:\n",
        "            if phase == 'train':\n",
        "                model.train()\n",
        "                dataloader = train_loader\n",
        "            else:\n",
        "                model.eval()\n",
        "                dataloader = val_loader\n",
        "\n",
        "            running_loss = 0.0\n",
        "            running_corrects = 0\n",
        "            total_samples = 0\n",
        "            running_recon_loss = 0.0\n",
        "            running_unknown = 0\n",
        "\n",
        "            for inputs, labels in dataloader:\n",
        "                inputs = inputs.to(device)\n",
        "                labels = labels.to(device)\n",
        "                optimizer.zero_grad()\n",
        "\n",
        "                with torch.set_grad_enabled(phase == 'train'):\n",
        "                    pred, recon, is_unknown, recon_error, encoded_vector_clf = model(inputs)\n",
        "                    clf_loss = clf_criterion(pred, labels)\n",
        "                    recon_loss = recon_criterion(recon, inputs)\n",
        "                    total_loss = clf_loss + recon_loss\n",
        "\n",
        "                    if phase == 'train':\n",
        "                        total_loss.backward()\n",
        "                        optimizer.step()\n",
        "\n",
        "                    running_loss += total_loss.item() * inputs.size(0)\n",
        "                    running_corrects += torch.sum(torch.argmax(pred, 1) == labels.data)\n",
        "                    running_recon_loss += recon_loss.item() * inputs.size(0)\n",
        "                    running_unknown += torch.sum(is_unknown).item()\n",
        "                    total_samples += labels.size(0)\n",
        "\n",
        "            epoch_clf_loss = running_loss / total_samples\n",
        "            epoch_clf_acc = running_corrects.double() / total_samples\n",
        "            epoch_recon_loss = running_recon_loss / total_samples\n",
        "            epoch_unknown = running_unknown / total_samples\n",
        "            results_dict[f'{phase}_clf_loss'].append(epoch_clf_loss)\n",
        "            results_dict[f'{phase}_acc'].append(epoch_clf_acc.item())\n",
        "            results_dict[f'{phase}_recon_loss'].append(epoch_recon_loss)\n",
        "            results_dict[f'{phase}_unknown'].append(epoch_unknown)\n",
        "\n",
        "    # determine the threshold\n",
        "    model.recon_threshold = model.determine_threshold(val_loader, percentile=95)\n",
        "    return results_dict"
      ],
      "metadata": {
        "id": "-VFZ1OstXQ04",
        "collapsed": true
      },
      "execution_count": 22,
      "outputs": []
    },
    {
      "cell_type": "markdown",
      "source": [
        "## Training procedure ##"
      ],
      "metadata": {
        "id": "_nMpyM8LUKA4"
      }
    },
    {
      "cell_type": "code",
      "source": [
        "if not eval_mode:\n",
        "  # training parameters\n",
        "  num_epoch = 20\n",
        "  lr = 0.1\n",
        "  clf_criterion = nn.NLLLoss()\n",
        "  recon_criterion = nn.MSELoss()\n",
        "\n",
        "  baseline_model = Baseline_model().to(device)\n",
        "  baseline_optimizer = optim.SGD(baseline_model.parameters(), lr=lr, momentum=0.9)\n",
        "  osr_model = OSR_model().to(device)\n",
        "  OSR_optimizer = optim.SGD(osr_model.parameters(), lr=lr, momentum=0.9)\n",
        "\n",
        "  # train and plot\n",
        "  baseline_result_dict = train_baseline_model(baseline_model,mnist_train_loader, mnist_val_loader, clf_criterion, recon_criterion, baseline_optimizer, num_epoch)\n",
        "  plot_training_results(baseline_result_dict, \"Baseline model\")\n",
        "\n",
        "  OSR_result_dict = train_osr_model(osr_model,mnist_train_loader, mnist_val_loader, clf_criterion, recon_criterion, OSR_optimizer, num_epoch)\n",
        "  plot_training_results(OSR_result_dict, \"OSR model\")\n",
        "\n",
        "  # save the weights\n",
        "  torch.save(baseline_model.state_dict(), './baseline model.pth')\n",
        "  torch.save(osr_model.state_dict(), './OSR model.pth')"
      ],
      "metadata": {
        "collapsed": true,
        "id": "7HSRgGc9UX26",
        "outputId": "12e1f719-99f8-44d0-8243-eeef932d6606",
        "colab": {
          "base_uri": "https://localhost:8080/",
          "height": 49,
          "referenced_widgets": [
            "07eba05fa42143faa1ead5168a99875f",
            "2f6a16509e41420bb0e6e57765dc58cb",
            "d8dbe656b7284a5cae1c3a3ae95627c2",
            "2bfdf10474fc41ba9a789c996e5998b8",
            "a332f4223f904dd189f3877be0fa68d2",
            "b52f1b8ad8074d1c93769993fb6dcd5e",
            "43e4d28067ae411ebf43c7a9b54420b6",
            "5a885aa4e5ce491ea9e4d7b1c26bd3fc",
            "da1ba79ff2bb4e76b58c3ffde8b30d82",
            "c04e62b8e7c04687962a7dcd69e9246d",
            "e3f1ce293d6c4a80a6758ab610801d7f"
          ]
        }
      },
      "execution_count": null,
      "outputs": [
        {
          "output_type": "display_data",
          "data": {
            "text/plain": [
              "Training Baseline model:   0%|          | 0/20 [00:00<?, ?it/s]"
            ],
            "application/vnd.jupyter.widget-view+json": {
              "version_major": 2,
              "version_minor": 0,
              "model_id": "07eba05fa42143faa1ead5168a99875f"
            }
          },
          "metadata": {}
        }
      ]
    },
    {
      "cell_type": "markdown",
      "source": [
        "#5.5 Evaluation - CIFAR10/Fashion-MNIST"
      ],
      "metadata": {
        "id": "MP2IFBDFXm_8"
      }
    },
    {
      "cell_type": "markdown",
      "source": [
        "##Baseline results:##"
      ],
      "metadata": {
        "id": "psd09Ri388iu"
      }
    },
    {
      "cell_type": "code",
      "source": [
        "if (eval_mode):\n",
        "    # Load the trained models weights\n",
        "    baseline_model = Baseline_model()\n",
        "    baseline_model.load_state_dict(torch.load('./baseline model.pth'))\n",
        "    baseline_model.to(device)\n",
        "    baseline_model.eval()\n",
        "    osr_model = OSR_model()\n",
        "    osr_model.load_state_dict(torch.load('./OSR model.pth'))\n",
        "    osr_model.to(device)\n",
        "    osr_model.eval()\n",
        "\n",
        "def eval_baseline(model, testloader):\n",
        "    correct = 0\n",
        "    total = 0\n",
        "    all_predicted = []\n",
        "    all_labels = []\n",
        "    with torch.no_grad():\n",
        "        for images, labels in testloader:\n",
        "            labels = labels.to(device)\n",
        "            images = images.to(device)\n",
        "            outputs, _  = model(images)\n",
        "            _, predicted = torch.max(outputs.data, 1)\n",
        "            total += labels.size(0)\n",
        "            correct += (predicted == labels).sum().item()\n",
        "\n",
        "            # Accumulate predictions and labels for confusion matrix\n",
        "            all_predicted.extend(predicted.cpu().numpy())\n",
        "            all_labels.extend(labels.cpu().numpy())\n",
        "\n",
        "    accuracy = 100 * correct / total\n",
        "\n",
        "    # Calculate confusion matrix\n",
        "    cm = confusion_matrix(all_labels, all_predicted)\n",
        "\n",
        "    return accuracy, cm\n",
        "\n",
        "# Baseline results\n",
        "accuracy, cm = eval_baseline(baseline_model, mnist_test_loader)\n",
        "plt.figure(figsize=(10, 7))\n",
        "sns.heatmap(cm, annot=True, fmt=\"d\", cmap=\"Blues\",\n",
        "            xticklabels=range(10), yticklabels=range(10))\n",
        "plt.title(f\"Confusion Matrix - Baseline result (Mnist test set), accuracy: {accuracy:.2f}%\")\n",
        "plt.ylabel(\"Actual Label\")\n",
        "plt.xlabel(\"Predicted Label\")\n",
        "plt.show()\n"
      ],
      "metadata": {
        "id": "srzL6sAKXqNa"
      },
      "execution_count": null,
      "outputs": []
    },
    {
      "cell_type": "markdown",
      "source": [
        "##5.5.3. OSR approach:##\n",
        "\n",
        "TO FILL\n",
        "❌-❌❌❌❌❌❌❌❌❌--\n",
        "\n"
      ],
      "metadata": {
        "id": "u-XqV0ZOYDeU"
      }
    },
    {
      "cell_type": "markdown",
      "source": [
        "## OOD result ##"
      ],
      "metadata": {
        "id": "J7knzmBeShCd"
      }
    },
    {
      "cell_type": "code",
      "source": [
        "def map_to_binary_class(predictions, true_labels, known_class=0, unknown_class=1):\n",
        "    # Map MNIST labels to known (0) and OOD labels to unknown (1)\n",
        "    true_labels_mapped = torch.where(true_labels < 10, known_class, unknown_class)  # MNIST labels are < 10\n",
        "    predictions_mapped = torch.where(predictions < 10, known_class, unknown_class)  # Same for predicted values\n",
        "    return true_labels_mapped, predictions_mapped\n",
        "\n",
        "def OOD_res(model, testloader):\n",
        "  # Collect true labels and predictions\n",
        "  all_true_labels = []\n",
        "  all_predictions = []\n",
        "\n",
        "  with torch.no_grad():\n",
        "      for images, labels in combined_ds_loader:\n",
        "          images, labels = images.to(device), labels.to(device)\n",
        "          # Get model predictions\n",
        "          outputs, _, _, _, _ = model(images)\n",
        "          _, predicted = torch.max(outputs, 1)\n",
        "\n",
        "          # Map labels and predictions to binary classes\n",
        "          true_labels_mapped, predictions_mapped = map_to_binary_class(predicted, labels)\n",
        "\n",
        "          all_true_labels.extend(true_labels_mapped.cpu().numpy())\n",
        "          all_predictions.extend(predictions_mapped.cpu().numpy())\n",
        "\n",
        "  # Calculate binary classification accuracy\n",
        "  accuracy = accuracy_score(all_true_labels, all_predictions)\n",
        "\n",
        "  # Generate confusion matrix\n",
        "  cm = confusion_matrix(all_true_labels, all_predictions)\n",
        "\n",
        "  # Plot the confusion matrix\n",
        "  plt.figure(figsize=(6, 5))\n",
        "  sns.heatmap(cm, annot=True, fmt='d', cmap='Blues', xticklabels=['Known', 'Unknown'], yticklabels=['Known', 'Unknown'])\n",
        "  plt.xlabel('Predicted')\n",
        "  plt.ylabel('True')\n",
        "  plt.title(f\"Confusion Matrix -OSR binary classification, accuracy: {accuracy * 100:.2f}%\")\n",
        "  plt.show()\n",
        "\n",
        "\n",
        "osr_model.recon_threshold = osr_model.determine_threshold(mnist_val_loader, 97)\n",
        "print(f\"Threshold: {osr_model.recon_threshold}\")\n",
        "OOD_res(osr_model, combined_ds_loader)\n",
        "\n"
      ],
      "metadata": {
        "id": "sMyAzd-4YP-6"
      },
      "execution_count": null,
      "outputs": []
    },
    {
      "cell_type": "markdown",
      "source": [
        "## OSR results ##"
      ],
      "metadata": {
        "id": "obYvskOqSqbj"
      }
    },
    {
      "cell_type": "code",
      "source": [
        "# OSR results\n",
        "\n",
        "def eval_model(model, data_loader, device): # pre defined function (utils.py)\n",
        "\n",
        "    model.eval()\n",
        "\n",
        "    correct_mnist = 0\n",
        "    total_mnist = 0\n",
        "    correct_ood = 0\n",
        "    total_ood = 0\n",
        "\n",
        "    with torch.no_grad():\n",
        "        for data, labels in data_loader:\n",
        "            data, labels = data.to(device), labels.to(device)\n",
        "\n",
        "            outputs, _, _, _, _ = model(data)\n",
        "\n",
        "            probas, y_pred = torch.max(outputs, 1)\n",
        "\n",
        "            mask_mnist = labels < 10\n",
        "            mask_ood = ~mask_mnist\n",
        "            labels_mnist = labels[mask_mnist]\n",
        "            labels_ood = labels[mask_ood]\n",
        "\n",
        "            pred_mnist = y_pred[mask_mnist]\n",
        "            pred_ood = y_pred[mask_ood]\n",
        "\n",
        "            total_mnist += labels_mnist.size(0)\n",
        "            total_ood += labels_ood.size(0)\n",
        "            correct_mnist += (pred_mnist == labels_mnist).sum().item()\n",
        "            correct_ood += (pred_ood == labels_ood).sum().item()\n",
        "\n",
        "    acc_mnist = correct_mnist / total_mnist\n",
        "    acc_ood = correct_ood / total_ood\n",
        "    acc_total = (correct_mnist + correct_ood) / (total_mnist + total_ood)\n",
        "\n",
        "    return acc_mnist, acc_ood, acc_total\n",
        "\n",
        "def OSR_cm(model, testloader, acc_mnist, acc_ood, acc_total):\n",
        "\n",
        "    # Generate confusion matrix (11 classes: 10 MNIST classes + 1 OOD class)\n",
        "    conf_matrix = np.zeros((11, 11), dtype=int)\n",
        "\n",
        "    # Collect all predictions and labels for confusion matrix\n",
        "    model.eval()\n",
        "    with torch.no_grad():\n",
        "        for data, labels in testloader:\n",
        "            data, labels = data.to(device), labels.to(device)\n",
        "\n",
        "\n",
        "            outputs, _, _, _, _ = model(data)\n",
        "            probas, y_pred = torch.max(outputs, 1)\n",
        "\n",
        "            # Separate MNIST and OOD samples\n",
        "            mask_mnist = labels < 10\n",
        "            mask_ood = ~mask_mnist\n",
        "\n",
        "            labels_mnist = labels[mask_mnist]\n",
        "            labels_ood = torch.full_like(labels[mask_ood], 10)  # Treat OOD as class 10\n",
        "\n",
        "            pred_mnist = y_pred[mask_mnist]\n",
        "            pred_ood = y_pred[mask_ood]\n",
        "\n",
        "            # Update confusion matrix for MNIST\n",
        "            for true, pred in zip(labels_mnist, pred_mnist):\n",
        "                conf_matrix[true.item(), pred.item()] += 1\n",
        "            # Update confusion matrix for OOD\n",
        "            for true, pred in zip(labels_ood, pred_ood):\n",
        "                conf_matrix[true.item(), pred.item()] += 1\n",
        "    print(f\"Accuracy on MNIST data: {acc_mnist * 100:.2f}%\")\n",
        "    print(f\"Accuracy on OOD (Unknown) data: {acc_ood * 100:.2f}%\")\n",
        "\n",
        "    # Plot confusion matrix (10 MNIST classes + 1 OOD class)\n",
        "    plt.figure(figsize=(10, 8))\n",
        "    sns.heatmap(conf_matrix, annot=True, fmt=\"d\", cmap=\"Blues\", xticklabels=[str(i) for i in range(10)] + [\"Unknown\"],\n",
        "                yticklabels=[str(i) for i in range(10)] + [\"Unknown\"])\n",
        "    plt.xlabel(\"Predicted Label\")\n",
        "    plt.ylabel(\"True Label\")\n",
        "    plt.title(f\"Confusion Matrix - OSR result, Total accuracy: {acc_total * 100:.2f}%\")\n",
        "    plt.show()\n",
        "\n",
        "\n",
        "acc_mnist, acc_ood, acc_total = eval_model(osr_model, combined_ds_loader, device)\n",
        "OSR_cm(osr_model, combined_ds_loader, acc_mnist, acc_ood, acc_total)"
      ],
      "metadata": {
        "id": "whUVE9chSmbI"
      },
      "execution_count": null,
      "outputs": []
    },
    {
      "cell_type": "markdown",
      "source": [
        "## t-SNE visualization ##"
      ],
      "metadata": {
        "id": "TRtdeJOSS5-M"
      }
    },
    {
      "cell_type": "code",
      "source": [
        "def visualize_embeddings(model, data_loader):\n",
        "  model.eval()\n",
        "  embeddings = []\n",
        "  labels = []\n",
        "  predictions = []\n",
        "\n",
        "  with torch.no_grad():\n",
        "      for data, label in data_loader:\n",
        "          data, label = data.to(device), label.to(device)\n",
        "          outputs, _, _, _, _ = model(data)\n",
        "          embedded_vector = model.encoder(data)\n",
        "          embedded_vector = embedded_vector.view(embedded_vector.size(0), -1)\n",
        "          probas, y_pred = torch.max(outputs, 1)\n",
        "          embeddings.append(embedded_vector.cpu().numpy())\n",
        "          predictions.append(y_pred.cpu().numpy())\n",
        "\n",
        "  embeddings = np.concatenate(embeddings, axis=0)\n",
        "  predictions = np.concatenate(predictions, axis=0)\n",
        "  reducer = TSNE(n_components=2)\n",
        "  reduced_embeddings = reducer.fit_transform(embeddings)\n",
        "\n",
        "  # plot\n",
        "  discrete_cmap = ListedColormap(plt.cm.tab20(np.linspace(0, 1, 11)))\n",
        "  plt.figure(figsize=(10, 8))\n",
        "  scatter = plt.scatter(reduced_embeddings[:, 0], reduced_embeddings[:, 1], c=predictions, cmap=discrete_cmap, s=5)\n",
        "  plt.legend(*scatter.legend_elements(), title='Predicted Class')\n",
        "  plt.xlabel('Component 1')\n",
        "  plt.ylabel('Component 2')\n",
        "  plt.title('TSNE Visualization of Test Data Embeddings')\n",
        "  plt.show()\n",
        "\n",
        "visualize_embeddings(osr_model, combined_ds_loader)"
      ],
      "metadata": {
        "id": "F60mA5kXS_YV"
      },
      "execution_count": null,
      "outputs": []
    },
    {
      "cell_type": "markdown",
      "source": [
        "# Evaluation - Unknown Dataset"
      ],
      "metadata": {
        "id": "1xE41sHlYwtQ"
      }
    },
    {
      "cell_type": "code",
      "source": [
        "'''\n",
        "osr_dataset = \"\" #change to actual path\n",
        "\n",
        "combined_osr_ds = CombinedDataset(mnist_test_subset, osr_dataset)\n",
        "combined_osr_ds_loader = DataLoader(combined_ds, batch_size=1024, shuffle=True)\n",
        "\n",
        "# Load the trained models weights\n",
        "osr_model = OSR_model()\n",
        "osr_model.load_state_dict(torch.load('./OSR model.pth'))\n",
        "osr_model.to(device)\n",
        "osr_model.eval()\n",
        "\n",
        "# OOD results\n",
        "OOD_res(osr_model, combined_osr_ds_loader)\n",
        "\n",
        "# OSR results\n",
        "acc_mnist, acc_ood, acc_total = eval_model(osr_model, combined_osr_ds_loader, device)\n",
        "OSR_cm(osr_model, combined_osr_ds_loader, acc_mnist, acc_ood, acc_total)\n",
        "\n",
        "# t-SNE visualization\n",
        "visualize_embeddings(osr_model, combined_osr_ds_loader)\n",
        "'''"
      ],
      "metadata": {
        "id": "OhNEvqK2Y1ie"
      },
      "execution_count": null,
      "outputs": []
    }
  ]
}